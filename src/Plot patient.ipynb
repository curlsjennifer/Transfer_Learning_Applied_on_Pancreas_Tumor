{
 "cells": [
  {
   "cell_type": "code",
   "execution_count": 1,
   "metadata": {},
   "outputs": [
    {
     "name": "stderr",
     "output_type": "stream",
     "text": [
      "Using TensorFlow backend.\n"
     ]
    }
   ],
   "source": [
    "import os\n",
    "import numpy as np\n",
    "import pandas as pd\n",
    "import seaborn as sns\n",
    "import matplotlib.pyplot as plt\n",
    "from skimage import io,data\n",
    "import collections\n",
    "import seaborn as sns\n",
    "from sklearn.metrics import confusion_matrix, roc_curve, auc\n",
    "from data_loader.data_loader import get_patches, dataset, exp_path"
   ]
  },
  {
   "cell_type": "code",
   "execution_count": null,
   "metadata": {},
   "outputs": [],
   "source": []
  },
  {
   "cell_type": "code",
   "execution_count": 16,
   "metadata": {},
   "outputs": [
    {
     "name": "stdout",
     "output_type": "stream",
     "text": [
      "[47, 66, 66, 66, 41]\n"
     ]
    },
    {
     "data": {
      "image/png": "[encoded data removed]",
      "text/plain": [
       "<Figure size 432x288 with 1 Axes>"
      ]
     },
     "metadata": {
      "needs_background": "light"
     },
     "output_type": "display_data"
    },
    {
     "name": "stdout",
     "output_type": "stream",
     "text": [
      "[45, 66, 66, 66, 66]\n"
     ]
    }
   ],
   "source": [
    "EXP = 'inc_S_t_0_0_200'\n",
    "name = exp_path(EXP, inc=False)\n",
    "history_list = np.load(name.roc_history, allow_pickle=True)\n",
    "val_loss_1 = [j for i in history_list for j in i['val_loss']]\n",
    "val_acc_1 = [j for i in history_list for j in i['val_acc']]\n",
    "loss_1 = [j for i in history_list for j in i['loss']]\n",
    "acc_1 = [j for i in history_list for j in i['acc']]\n",
    "plt.plot(val_loss_1, label='selected')\n",
    "print([ len(i['val_loss']) for i in history_list])\n",
    "EXP = 'inc_R_t_0_0_200'\n",
    "name = exp_path(EXP, inc=False)\n",
    "history_list = np.load(name.roc_history, allow_pickle=True)\n",
    "val_loss_2 = [j for i in history_list for j in i['val_loss']]\n",
    "val_acc_2 = [j for i in history_list for j in i['val_acc']]\n",
    "loss_2 = [j for i in history_list for j in i['loss']]\n",
    "acc_2 = [j for i in history_list for j in i['acc']]\n",
    "plt.plot(val_loss_2, label='random')\n",
    "#plt.plot(val_acc)\n",
    "#plt.plot(loss)\n",
    "#plt.plot(acc)\n",
    "plt.xlabel(\"epochs\")\n",
    "plt.ylabel(\"validation loss\")\n",
    "plt.legend()\n",
    "plt.show()\n",
    "print([ len(i['val_loss']) for i in history_list])"
   ]
  },
  {
   "cell_type": "code",
   "execution_count": 3,
   "metadata": {},
   "outputs": [
    {
     "name": "stdout",
     "output_type": "stream",
     "text": [
      "(3913,) (3913,)\n"
     ]
    }
   ],
   "source": [
    "# Read result files and organize them\n",
    "EXP = 'trans_3_0_9_200'\n",
    "tumor_size = pd.read_csv(\"size_external.csv\")\n",
    "name = exp_path(EXP, inc=False)\n",
    "[test_y, probs_binary, probs, patch_threshold, roc_auc] = np.load(\n",
    "    name.patch_target_path, allow_pickle=True)\n",
    "[train, valid, test] = np.load(name.target_path, allow_pickle=True)\n",
    "print(np.shape(test_y), np.shape(test.y))"
   ]
  },
  {
   "cell_type": "code",
   "execution_count": null,
   "metadata": {},
   "outputs": [],
   "source": []
  },
  {
   "cell_type": "code",
   "execution_count": 4,
   "metadata": {},
   "outputs": [
    {
     "name": "stdout",
     "output_type": "stream",
     "text": [
      "Work on trans_3_0_9_200\n",
      "\n",
      "threshold  0.16041544\n",
      "rate pred 0.3375926399182213\n",
      "rate valid 0.11040122668029645\n",
      "rate true 0.12624584717607973\n",
      "AUC  0.8236504032597074\n",
      "Num tcia and msd  18 8\n"
     ]
    },
    {
     "data": {
      "image/png": "[encoded data removed]",
      "text/plain": [
       "<Figure size 432x288 with 1 Axes>"
      ]
     },
     "metadata": {
      "needs_background": "light"
     },
     "output_type": "display_data"
    }
   ],
   "source": [
    "print(\"Work on \" + EXP)\n",
    "print(\"\\nthreshold \", patch_threshold)\n",
    "print(\"rate pred\", probs_binary.sum()/len(probs_binary))\n",
    "print(\"rate valid\", valid.y.sum()/len(probs_binary))\n",
    "print(\"rate true\", test_y.sum()/len(probs_binary))\n",
    "print(\"AUC \", roc_auc)\n",
    "msd = sum([1 for i in range(len(test.idx)) if test.idx[i][0] == 'msd'])\n",
    "print(\"Num tcia and msd \", msd, len(test.idx) - msd)\n",
    "ax = sns.distplot(probs, bins=15, kde=False, norm_hist=False)\n",
    "probs_false = [probs[i] for i in range(len(probs)) if not probs_binary[i] == test_y[i]]\n",
    "ax = sns.distplot(probs_false, bins=15, kde=False, norm_hist=False)\n",
    "\n",
    "#kde_x, kde_y = ax.lines[0].get_data()\n",
    "\n",
    "#plotting the two lines\n",
    "p1 = plt.axvline(x=patch_threshold,color='#EF9A9A')\n",
    "\n",
    "#ax.fill_between(kde_x, kde_y, where=(kde_x<patch_threshold) , \n",
    "#                interpolate=True, color='#EF9A9A')\n",
    "\n",
    "plt.show()"
   ]
  },
  {
   "cell_type": "code",
   "execution_count": null,
   "metadata": {},
   "outputs": [],
   "source": []
  },
  {
   "cell_type": "code",
   "execution_count": 5,
   "metadata": {},
   "outputs": [],
   "source": [
    "patient_list = []\n",
    "type_list = []\n",
    "for it_type, it_name, it_len in test.idx:\n",
    "    patient_list.extend([it_name] * it_len)\n",
    "    type_list.extend([it_type] * it_len)"
   ]
  },
  {
   "cell_type": "code",
   "execution_count": null,
   "metadata": {},
   "outputs": [],
   "source": []
  },
  {
   "cell_type": "code",
   "execution_count": 6,
   "metadata": {},
   "outputs": [
    {
     "name": "stdout",
     "output_type": "stream",
     "text": [
      "Work on pancreas_025.nii.gz\n"
     ]
    }
   ],
   "source": [
    "patient_name = test.idx[15][1]\n",
    "print(\"Work on\", patient_name)\n",
    "index_patient = [i for i in range(len(patient_list)) if patient_list[i] == patient_name]\n",
    "cube_shape = test.coord[index_patient[0]][-3:]\n",
    "\n",
    "patient_cube = np.zeros(cube_shape)\n",
    "true_cube = np.zeros(cube_shape)\n",
    "predict_cube = np.zeros(cube_shape)\n",
    "\n",
    "identity = np.ones([1, 50, 50])\n",
    "#test.X = test.X.reshape(np.shape(test.X)[:-1])\n",
    "for i in index_patient:\n",
    "    coord = test.coord[i]\n",
    "    patient_cube[coord[0]:coord[1], coord[2]:coord[3], coord[4]] = test.X[i, :, :].reshape([1, 50, 50])\n",
    "    true_cube[coord[0]:coord[1], coord[2]:coord[3], coord[4]] = identity * test.y[i]\n",
    "    predict_cube[coord[0]:coord[1], coord[2]:coord[3], coord[4]] = identity * probs_binary[i]\n",
    "\n",
    "patient_cube = (patient_cube - patient_cube.min())/(patient_cube.max() - patient_cube.min())"
   ]
  },
  {
   "cell_type": "code",
   "execution_count": 7,
   "metadata": {},
   "outputs": [
    {
     "name": "stdout",
     "output_type": "stream",
     "text": [
      "false  [('pancreas_247.nii.gz', 101, 0.6234567901234568), ('pancreas_016.nii.gz', 101, 0.5401069518716578)]\n",
      "rate  [('pancreas_247.nii.gz', 101, 0.6234567901234568), ('pancreas_215.nii.gz', 63, 0.6176470588235294), ('pancreas_016.nii.gz', 101, 0.5401069518716578), ('pancreas_361.nii.gz', 96, 0.46153846153846156), ('pancreas_209.nii.gz', 75, 0.44642857142857145), ('pancreas_219.nii.gz', 47, 0.44339622641509435), ('pancreas_259.nii.gz', 37, 0.44047619047619047)]\n"
     ]
    },
    {
     "data": {
      "image/png": "[encoded data removed]",
      "text/plain": [
       "<Figure size 432x288 with 1 Axes>"
      ]
     },
     "metadata": {
      "needs_background": "light"
     },
     "output_type": "display_data"
    },
    {
     "data": {
      "image/png": "[encoded data removed]",
      "text/plain": [
       "<Figure size 432x288 with 1 Axes>"
      ]
     },
     "metadata": {
      "needs_background": "light"
     },
     "output_type": "display_data"
    }
   ],
   "source": [
    "false_list = []\n",
    "for i in range(len(test.idx)):\n",
    "    filename = test.idx[i][1]\n",
    "    index_patient = [i for i in range(len(patient_list)) if patient_list[i] == filename]\n",
    "    cm = confusion_matrix(test.y[index_patient], probs_binary[index_patient], labels=[1, 0])\n",
    "    false_list.append((filename, cm[0,1] + cm[1, 0], (cm[0,1] + cm[1, 0])/cm.sum()))\n",
    "false_list = sorted(false_list, key = lambda s: s[2], reverse = True)\n",
    "false_list_name = [false_list[j][0] for j in range(len(false_list))]\n",
    "false_list_false = [false_list[j][1] for j in range(len(false_list))]\n",
    "false_list_rate = [false_list[j][2] for j in range(len(false_list))]\n",
    "print(\"false \", [false_list[i] for i in range(len(test.idx)) if false_list_false[i] >= 100])\n",
    "print(\"rate \", [false_list[i] for i in range(len(test.idx)) if false_list_rate[i] >= 0.4])\n",
    "\n",
    "sns.distplot(false_list_false, bins=15, kde=True)\n",
    "plt.title('false_prediction_' + EXP)\n",
    "plt.show()\n",
    "sns.distplot(false_list_rate, bins=15, kde=True)\n",
    "\n",
    "plt.title('false_rate_' + EXP)\n",
    "plt.show()"
   ]
  },
  {
   "cell_type": "code",
   "execution_count": 8,
   "metadata": {},
   "outputs": [],
   "source": [
    "record_size = pd.read_csv(\"record_size.csv\")\n",
    "record = [false_list[i] for i in range(len(test.idx)) if false_list_rate[i] >= 0.4]\n",
    "record = [record[i] + (tumor_size['cal_size'][tumor_size.index[tumor_size['case_id'] == record[i][0]]].tolist()[0],)\n",
    "          for i in range(len(record))]\n",
    "record = [record[i] + (EXP,)\n",
    "          for i in range(len(record))]\n",
    "record = pd.DataFrame(record, columns=['case_id', 'false_num', 'false_rate', 'tumor_size', 'exp_name'])\n",
    "record_size = pd.concat([record_size, record]).drop_duplicates()\n",
    "#record_size = record\n",
    "record_size.to_csv('record_size.csv', index=False)\n",
    "#print(record_size)"
   ]
  },
  {
   "cell_type": "code",
   "execution_count": null,
   "metadata": {},
   "outputs": [],
   "source": []
  },
  {
   "cell_type": "code",
   "execution_count": 9,
   "metadata": {},
   "outputs": [
    {
     "name": "stdout",
     "output_type": "stream",
     "text": [
      "Work on pancreas_247.nii.gz\n"
     ]
    }
   ],
   "source": [
    "patient_name = false_list_name[0]\n",
    "print(\"Work on\", patient_name)\n",
    "index_patient = [i for i in range(len(patient_list)) if patient_list[i] == patient_name]\n",
    "cube_shape = test.coord[index_patient[0]][-3:]\n",
    "\n",
    "patient_cube = np.zeros(cube_shape)\n",
    "true_cube = np.zeros(cube_shape)\n",
    "predict_cube = np.zeros(cube_shape)\n",
    "\n",
    "identity = np.ones([1, 50, 50])\n",
    "#test.X = test.X.reshape(np.shape(test.X)[:-1])\n",
    "for i in index_patient:\n",
    "    coord = test.coord[i]\n",
    "    #print(coord)\n",
    "    patient_cube[coord[0]:coord[1], coord[2]:coord[3], coord[4]] = test.X[i, :, :].reshape([50, 50])\n",
    "    true_cube[coord[0]:coord[1], coord[2]:coord[3], coord[4]] = identity * test.y[i]\n",
    "    predict_cube[coord[0]:coord[1], coord[2]:coord[3], coord[4]] = identity * probs_binary[i]\n",
    "\n",
    "patient_cube = (patient_cube - patient_cube.min())/(patient_cube.max() - patient_cube.min())\n"
   ]
  },
  {
   "cell_type": "code",
   "execution_count": 10,
   "metadata": {},
   "outputs": [
    {
     "name": "stdout",
     "output_type": "stream",
     "text": [
      "(3913,) (3913, 1)\n",
      "[[ 373  121]\n",
      " [ 948 2471]]\n",
      "0.27319192435471507\n",
      "10\n"
     ]
    },
    {
     "data": {
      "image/png": "[encoded data removed]",
      "text/plain": [
       "<Figure size 432x288 with 1 Axes>"
      ]
     },
     "metadata": {
      "needs_background": "light"
     },
     "output_type": "display_data"
    }
   ],
   "source": [
    "print(np.shape(test.y), np.shape(probs_binary))\n",
    "cm = confusion_matrix(test.y, probs_binary, labels=[1, 0])\n",
    "print(cm)\n",
    "print((cm[0,1]+cm[1,0])/cm.sum())\n",
    "index = 10\n",
    "print(index)\n",
    "cube_shape[2] = 1\n",
    "image = patient_cube[:, :, index].reshape(cube_shape)\n",
    "image = np.repeat(image, 3, axis=2)\n",
    "image[:, :, 1] = image[:, :, 1]\n",
    "#image[:, :, 1] = image[:, :, 1] * (1 - true_cube[:, :, index]) + true_cube[:, :, index]*120\n",
    "#image[:, :, 2] = image[:, :, 2] * (1 - predict_cube[:, :, index]) + predict_cube[:, :, index]*120\n",
    "plt.imshow(image)\n",
    "plt.show()\n",
    "    "
   ]
  },
  {
   "cell_type": "code",
   "execution_count": null,
   "metadata": {},
   "outputs": [],
   "source": []
  }
 ],
 "metadata": {
  "kernelspec": {
   "display_name": "Python 3",
   "language": "python",
   "name": "python3"
  },
  "language_info": {
   "codemirror_mode": {
    "name": "ipython",
    "version": 3
   },
   "file_extension": ".py",
   "mimetype": "text/x-python",
   "name": "python",
   "nbconvert_exporter": "python",
   "pygments_lexer": "ipython3",
   "version": "3.6.8"
  }
 },
 "nbformat": 4,
 "nbformat_minor": 2
}
