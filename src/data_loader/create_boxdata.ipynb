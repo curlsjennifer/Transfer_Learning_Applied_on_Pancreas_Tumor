{
 "cells": [
  {
   "cell_type": "markdown",
   "metadata": {},
   "source": [
    "# Create boxdata\n",
    "* Input: label data\n",
    "* Output: numpy array CT iamge and label (pancreas, lesion)"
   ]
  },
  {
   "cell_type": "code",
   "execution_count": 1,
   "metadata": {},
   "outputs": [],
   "source": [
    "import time\n",
    "import os, glob, ntpath\n",
    "import logging\n",
    "from tqdm import tqdm_notebook as tqdm\n",
    "import numpy as np\n",
    "import pandas as pd\n",
    "import pydicom as dicom\n",
    "import nrrd\n",
    "import matplotlib.pyplot as plt\n",
    "from datetime import datetime as ddt"
   ]
  },
  {
   "cell_type": "code",
   "execution_count": 2,
   "metadata": {},
   "outputs": [
    {
     "name": "stderr",
     "output_type": "stream",
     "text": [
      "/home/u/sonic81518/.conda/envs/tinghui/lib/python3.6/site-packages/h5py/__init__.py:36: FutureWarning: Conversion of the second argument of issubdtype from `float` to `np.floating` is deprecated. In future, it will be treated as `np.float64 == np.dtype(float).type`.\n",
      "  from ._conv import register_converters as _register_converters\n",
      "Using TensorFlow backend.\n"
     ]
    },
    {
     "ename": "ModuleNotFoundError",
     "evalue": "No module named 'data_loader.patch_sampler'; 'data_loader' is not a package",
     "output_type": "error",
     "traceback": [
      "\u001b[0;31m---------------------------------------------------------------------------\u001b[0m",
      "\u001b[0;31mModuleNotFoundError\u001b[0m                       Traceback (most recent call last)",
      "\u001b[0;32m<ipython-input-2-d711ef5daa92>\u001b[0m in \u001b[0;36m<module>\u001b[0;34m()\u001b[0m\n\u001b[0;32m----> 1\u001b[0;31m \u001b[0;32mfrom\u001b[0m \u001b[0mcreate_boxdata\u001b[0m \u001b[0;32mimport\u001b[0m \u001b[0mcreate_boxdata\u001b[0m\u001b[0;34m,\u001b[0m \u001b[0mcreate_AD_boxdata\u001b[0m\u001b[0;34m\u001b[0m\u001b[0m\n\u001b[0m",
      "\u001b[0;32m~/project/pancreas_github/src/data_loader/create_boxdata.py\u001b[0m in \u001b[0;36m<module>\u001b[0;34m()\u001b[0m\n\u001b[1;32m     26\u001b[0m \u001b[0;32mimport\u001b[0m \u001b[0mscipy\u001b[0m\u001b[0;34m\u001b[0m\u001b[0m\n\u001b[1;32m     27\u001b[0m \u001b[0;34m\u001b[0m\u001b[0m\n\u001b[0;32m---> 28\u001b[0;31m \u001b[0;32mfrom\u001b[0m \u001b[0mdata_loader\u001b[0m\u001b[0;34m.\u001b[0m\u001b[0mchecking\u001b[0m \u001b[0;32mimport\u001b[0m \u001b[0mrefine_dcm\u001b[0m\u001b[0;34m\u001b[0m\u001b[0m\n\u001b[0m\u001b[1;32m     29\u001b[0m \u001b[0;32mfrom\u001b[0m \u001b[0mdata_loader\u001b[0m\u001b[0;34m.\u001b[0m\u001b[0mpreprocessing\u001b[0m \u001b[0;32mimport\u001b[0m \u001b[0mget_pixels_hu\u001b[0m\u001b[0;34m,\u001b[0m \u001b[0mresample\u001b[0m\u001b[0;34m,\u001b[0m \u001b[0mfind_largest\u001b[0m\u001b[0;34m\u001b[0m\u001b[0m\n\u001b[1;32m     30\u001b[0m \u001b[0;34m\u001b[0m\u001b[0m\n",
      "\u001b[0;32m~/project/pancreas_github/src/data_loader/data_loader.py\u001b[0m in \u001b[0;36m<module>\u001b[0;34m()\u001b[0m\n\u001b[1;32m     14\u001b[0m \u001b[0;32mimport\u001b[0m \u001b[0mnibabel\u001b[0m \u001b[0;32mas\u001b[0m \u001b[0mnib\u001b[0m\u001b[0;34m\u001b[0m\u001b[0m\n\u001b[1;32m     15\u001b[0m \u001b[0;34m\u001b[0m\u001b[0m\n\u001b[0;32m---> 16\u001b[0;31m \u001b[0;32mfrom\u001b[0m \u001b[0mdata_loader\u001b[0m\u001b[0;34m.\u001b[0m\u001b[0mpatch_sampler\u001b[0m \u001b[0;32mimport\u001b[0m \u001b[0mpatch_generator\u001b[0m\u001b[0;34m\u001b[0m\u001b[0m\n\u001b[0m\u001b[1;32m     17\u001b[0m \u001b[0;32mfrom\u001b[0m \u001b[0mdata_loader\u001b[0m\u001b[0;34m.\u001b[0m\u001b[0mpatch_sampler\u001b[0m \u001b[0;32mimport\u001b[0m \u001b[0mmasked_2D_sampler\u001b[0m\u001b[0;34m\u001b[0m\u001b[0m\n\u001b[1;32m     18\u001b[0m from data_loader.preprocessing import (\n",
      "\u001b[0;31mModuleNotFoundError\u001b[0m: No module named 'data_loader.patch_sampler'; 'data_loader' is not a package"
     ]
    }
   ],
   "source": [
    "from create_boxdata import create_boxdata, create_AD_boxdata"
   ]
  },
  {
   "cell_type": "code",
   "execution_count": 152,
   "metadata": {},
   "outputs": [],
   "source": [
    "border = np.array([0, 0, 0])\n",
    "# box_save_path = '/home/d/pancreas/resample115_box_data/'\n",
    "box_save_path = '/home/d/pancreas/test/'"
   ]
  },
  {
   "cell_type": "code",
   "execution_count": 4,
   "metadata": {},
   "outputs": [],
   "source": [
    "sortkey = lambda k: ntpath.basename(k).replace('.dcm', '').split('-')[-1]\n",
    "sortkey_PC = lambda k: int(ntpath.basename(k).replace('.dcm', '').split('I')[-1])"
   ]
  },
  {
   "cell_type": "code",
   "execution_count": null,
   "metadata": {},
   "outputs": [],
   "source": []
  },
  {
   "cell_type": "markdown",
   "metadata": {},
   "source": [
    "# Usage\n",
    "To view one simple case, just simply run `create_box_data`. It will return the numpy array of image and labels. <br>\n",
    "For NP and PT, please input **sortkey**; for PC, please input **sortkey_PC**."
   ]
  },
  {
   "cell_type": "code",
   "execution_count": 7,
   "metadata": {},
   "outputs": [],
   "source": [
    "image, label = create_boxdata('/home/d/pancreas/label_data/000027/PC67/', sortkey_PC)"
   ]
  },
  {
   "cell_type": "code",
   "execution_count": 8,
   "metadata": {},
   "outputs": [
    {
     "name": "stdout",
     "output_type": "stream",
     "text": [
      "Image shape: (110, 58, 14)\n",
      "Number of content in label: 3\n",
      "Total label name:\n",
      "  pancreas : (110, 58, 14)\n",
      "  lesion : (110, 58, 14)\n",
      "  pduct : (110, 58, 14)\n"
     ]
    }
   ],
   "source": [
    "print('Image shape:', image.shape)\n",
    "print('Number of content in label:', len(label))\n",
    "print('Total label name:')\n",
    "for item in label:\n",
    "    print(' ', item[0], ':', item[1].shape)"
   ]
  },
  {
   "cell_type": "markdown",
   "metadata": {},
   "source": [
    "# Create box data and save as numpy array"
   ]
  },
  {
   "cell_type": "code",
   "execution_count": 5,
   "metadata": {
    "scrolled": true
   },
   "outputs": [
    {
     "data": {
      "application/vnd.jupyter.widget-view+json": {
       "model_id": "3a840d9948114efda606c3c7697a0bab",
       "version_major": 2,
       "version_minor": 0
      },
      "text/html": [
       "<p>Failed to display Jupyter Widget of type <code>HBox</code>.</p>\n",
       "<p>\n",
       "  If you're reading this message in the Jupyter Notebook or JupyterLab Notebook, it may mean\n",
       "  that the widgets JavaScript is still loading. If this message persists, it\n",
       "  likely means that the widgets JavaScript library is either not installed or\n",
       "  not enabled. See the <a href=\"https://ipywidgets.readthedocs.io/en/stable/user_install.html\">Jupyter\n",
       "  Widgets Documentation</a> for setup instructions.\n",
       "</p>\n",
       "<p>\n",
       "  If you're reading this message in another frontend (for example, a static\n",
       "  rendering on GitHub or <a href=\"https://nbviewer.jupyter.org/\">NBViewer</a>),\n",
       "  it may mean that your frontend doesn't currently support widgets.\n",
       "</p>\n"
      ],
      "text/plain": [
       "HBox(children=(IntProgress(value=0, max=44), HTML(value='')))"
      ]
     },
     "metadata": {},
     "output_type": "display_data"
    },
    {
     "name": "stderr",
     "output_type": "stream",
     "text": [
      "/home/u/sonic81518/.conda/envs/tinghui/lib/python3.6/site-packages/scipy/ndimage/interpolation.py:616: UserWarning: From scipy 0.13.0, the output shape of zoom() is calculated with round() instead of int() - for these inputs the size of the returned array has changed.\n",
      "  \"the returned array has changed.\", UserWarning)\n"
     ]
    },
    {
     "name": "stdout",
     "output_type": "stream",
     "text": [
      "\n",
      "Done create 44 box data in 87.85057210922241 seconds\n"
     ]
    }
   ],
   "source": [
    "st_tol = time.time()\n",
    "cnt = 0\n",
    "for tumorpath in tqdm(glob.glob('/home/d/pancreas/label_data/*/PT*/*nrrd')):\n",
    "    create_boxdata(tumorpath.replace('/label.nrrd','/'), sortkey, box_save_path=box_save_path, fine_to_thick=True, change_spacing=True)\n",
    "    cnt += 1\n",
    "print('Done create {} box data in {} seconds'.format(cnt, time.time()-st_tol))"
   ]
  },
  {
   "cell_type": "code",
   "execution_count": 153,
   "metadata": {},
   "outputs": [
    {
     "data": {
      "application/vnd.jupyter.widget-view+json": {
       "model_id": "ce67ae01c03b4204815a6811cf245deb",
       "version_major": 2,
       "version_minor": 0
      },
      "text/html": [
       "<p>Failed to display Jupyter Widget of type <code>HBox</code>.</p>\n",
       "<p>\n",
       "  If you're reading this message in the Jupyter Notebook or JupyterLab Notebook, it may mean\n",
       "  that the widgets JavaScript is still loading. If this message persists, it\n",
       "  likely means that the widgets JavaScript library is either not installed or\n",
       "  not enabled. See the <a href=\"https://ipywidgets.readthedocs.io/en/stable/user_install.html\">Jupyter\n",
       "  Widgets Documentation</a> for setup instructions.\n",
       "</p>\n",
       "<p>\n",
       "  If you're reading this message in another frontend (for example, a static\n",
       "  rendering on GitHub or <a href=\"https://nbviewer.jupyter.org/\">NBViewer</a>),\n",
       "  it may mean that your frontend doesn't currently support widgets.\n",
       "</p>\n"
      ],
      "text/plain": [
       "HBox(children=(IntProgress(value=0, max=10), HTML(value='')))"
      ]
     },
     "metadata": {},
     "output_type": "display_data"
    },
    {
     "name": "stdout",
     "output_type": "stream",
     "text": [
      "\n",
      "Done create 10 box data in 6.057265520095825 seconds\n"
     ]
    }
   ],
   "source": [
    "st_tol = time.time()\n",
    "cnt = 0\n",
    "for tumorpath in tqdm(glob.glob('/home/d/pancreas/label_data/*/NP*/*nrrd')):\n",
    "    create_boxdata(tumorpath.replace('/label.nrrd','/'), sortkey, box_save_path=box_save_path, fine_to_thick=True, change_spacing=True)\n",
    "    cnt += 1\n",
    "print('Done create {} box data in {} seconds'.format(cnt, time.time()-st_tol))"
   ]
  },
  {
   "cell_type": "code",
   "execution_count": 7,
   "metadata": {},
   "outputs": [
    {
     "data": {
      "application/vnd.jupyter.widget-view+json": {
       "model_id": "c2db78ce35d9426dacbbd5cd528f3f0a",
       "version_major": 2,
       "version_minor": 0
      },
      "text/html": [
       "<p>Failed to display Jupyter Widget of type <code>HBox</code>.</p>\n",
       "<p>\n",
       "  If you're reading this message in the Jupyter Notebook or JupyterLab Notebook, it may mean\n",
       "  that the widgets JavaScript is still loading. If this message persists, it\n",
       "  likely means that the widgets JavaScript library is either not installed or\n",
       "  not enabled. See the <a href=\"https://ipywidgets.readthedocs.io/en/stable/user_install.html\">Jupyter\n",
       "  Widgets Documentation</a> for setup instructions.\n",
       "</p>\n",
       "<p>\n",
       "  If you're reading this message in another frontend (for example, a static\n",
       "  rendering on GitHub or <a href=\"https://nbviewer.jupyter.org/\">NBViewer</a>),\n",
       "  it may mean that your frontend doesn't currently support widgets.\n",
       "</p>\n"
      ],
      "text/plain": [
       "HBox(children=(IntProgress(value=0, max=104), HTML(value='')))"
      ]
     },
     "metadata": {},
     "output_type": "display_data"
    },
    {
     "name": "stderr",
     "output_type": "stream",
     "text": [
      "/home/u/sonic81518/.conda/envs/tinghui/lib/python3.6/site-packages/scipy/ndimage/interpolation.py:616: UserWarning: From scipy 0.13.0, the output shape of zoom() is calculated with round() instead of int() - for these inputs the size of the returned array has changed.\n",
      "  \"the returned array has changed.\", UserWarning)\n"
     ]
    },
    {
     "name": "stdout",
     "output_type": "stream",
     "text": [
      "\n",
      "Done create 104 box data in 45.17852425575256 seconds\n"
     ]
    }
   ],
   "source": [
    "st_tol = time.time()\n",
    "cnt = 0\n",
    "for tumorpath in tqdm(glob.glob('/home/d/pancreas/label_data/*/PC*/*nrrd')):\n",
    "    try:\n",
    "        create_boxdata(tumorpath.replace('/label.nrrd','/'), sortkey_PC, change_spacing=True, box_save_path=box_save_path)\n",
    "        cnt += 1\n",
    "    except:\n",
    "        print(tumorpath)\n",
    "print('Done create {} box data in {} seconds'.format(cnt, time.time()-st_tol))"
   ]
  },
  {
   "cell_type": "code",
   "execution_count": 8,
   "metadata": {},
   "outputs": [
    {
     "data": {
      "application/vnd.jupyter.widget-view+json": {
       "model_id": "047872552ae741fea4e1bb6d05673f72",
       "version_major": 2,
       "version_minor": 0
      },
      "text/html": [
       "<p>Failed to display Jupyter Widget of type <code>HBox</code>.</p>\n",
       "<p>\n",
       "  If you're reading this message in the Jupyter Notebook or JupyterLab Notebook, it may mean\n",
       "  that the widgets JavaScript is still loading. If this message persists, it\n",
       "  likely means that the widgets JavaScript library is either not installed or\n",
       "  not enabled. See the <a href=\"https://ipywidgets.readthedocs.io/en/stable/user_install.html\">Jupyter\n",
       "  Widgets Documentation</a> for setup instructions.\n",
       "</p>\n",
       "<p>\n",
       "  If you're reading this message in another frontend (for example, a static\n",
       "  rendering on GitHub or <a href=\"https://nbviewer.jupyter.org/\">NBViewer</a>),\n",
       "  it may mean that your frontend doesn't currently support widgets.\n",
       "</p>\n"
      ],
      "text/plain": [
       "HBox(children=(IntProgress(value=0, max=92), HTML(value='')))"
      ]
     },
     "metadata": {},
     "output_type": "display_data"
    },
    {
     "name": "stderr",
     "output_type": "stream",
     "text": [
      "/home/u/sonic81518/.conda/envs/tinghui/lib/python3.6/site-packages/scipy/ndimage/interpolation.py:616: UserWarning: From scipy 0.13.0, the output shape of zoom() is calculated with round() instead of int() - for these inputs the size of the returned array has changed.\n",
      "  \"the returned array has changed.\", UserWarning)\n"
     ]
    },
    {
     "name": "stdout",
     "output_type": "stream",
     "text": [
      "\n",
      "Done create 92 box data in 1028.5098505020142 seconds\n"
     ]
    }
   ],
   "source": [
    "st_tol = time.time()\n",
    "cnt = 0\n",
    "for tumorpath in tqdm(glob.glob('/home/d/pancreas/no_label_data/AD*/')):\n",
    "    try:\n",
    "        create_AD_boxdata(tumorpath.replace('/label.nrrd','/'), sortkey, box_save_path=box_save_path, fine_to_thick=True, change_spacing=True)\n",
    "        cnt += 1\n",
    "    except:\n",
    "        print(tumorpath)\n",
    "print('Done create {} box data in {} seconds'.format(cnt, time.time()-st_tol))"
   ]
  },
  {
   "cell_type": "code",
   "execution_count": 9,
   "metadata": {},
   "outputs": [
    {
     "data": {
      "application/vnd.jupyter.widget-view+json": {
       "model_id": "4d19ec5376e8410a9bed574e2dc3528d",
       "version_major": 2,
       "version_minor": 0
      },
      "text/html": [
       "<p>Failed to display Jupyter Widget of type <code>HBox</code>.</p>\n",
       "<p>\n",
       "  If you're reading this message in the Jupyter Notebook or JupyterLab Notebook, it may mean\n",
       "  that the widgets JavaScript is still loading. If this message persists, it\n",
       "  likely means that the widgets JavaScript library is either not installed or\n",
       "  not enabled. See the <a href=\"https://ipywidgets.readthedocs.io/en/stable/user_install.html\">Jupyter\n",
       "  Widgets Documentation</a> for setup instructions.\n",
       "</p>\n",
       "<p>\n",
       "  If you're reading this message in another frontend (for example, a static\n",
       "  rendering on GitHub or <a href=\"https://nbviewer.jupyter.org/\">NBViewer</a>),\n",
       "  it may mean that your frontend doesn't currently support widgets.\n",
       "</p>\n"
      ],
      "text/plain": [
       "HBox(children=(IntProgress(value=0, max=92), HTML(value='')))"
      ]
     },
     "metadata": {},
     "output_type": "display_data"
    },
    {
     "name": "stdout",
     "output_type": "stream",
     "text": [
      "\n"
     ]
    },
    {
     "name": "stderr",
     "output_type": "stream",
     "text": [
      "/home/u/sonic81518/.conda/envs/tinghui/lib/python3.6/site-packages/scipy/ndimage/interpolation.py:616: UserWarning: From scipy 0.13.0, the output shape of zoom() is calculated with round() instead of int() - for these inputs the size of the returned array has changed.\n",
      "  \"the returned array has changed.\", UserWarning)\n"
     ]
    },
    {
     "name": "stdout",
     "output_type": "stream",
     "text": [
      "\n"
     ]
    }
   ],
   "source": [
    "for tumorpath in tqdm(glob.glob('/home/d/pancreas/no_label_data/AD*/')):\n",
    "    ID = tumorpath.split('/')[-2]\n",
    "    img, lbl = create_AD_boxdata(tumorpath.replace('/label.nrrd', '/'), sortkey, new_spacing=[1, 1, 1])\n",
    "    image = nib.Nifti1Image(img, affine)\n",
    "    image.to_filename('/home/d/pancreas/box_nifti/' + ID + 'img.nii.gz')\n",
    "    label = nib.Nifti1Image(lbl, affine)\n",
    "    label.to_filename('/home/d/pancreas/box_nifti/' + ID + 'lbl.nii.gz')"
   ]
  },
  {
   "cell_type": "code",
   "execution_count": null,
   "metadata": {},
   "outputs": [],
   "source": []
  },
  {
   "cell_type": "code",
   "execution_count": null,
   "metadata": {},
   "outputs": [],
   "source": []
  },
  {
   "cell_type": "markdown",
   "metadata": {},
   "source": [
    "# Special: for the AD drawing by Dr. Chen"
   ]
  },
  {
   "cell_type": "code",
   "execution_count": 64,
   "metadata": {},
   "outputs": [],
   "source": [
    "border = np.array([0, 0, 0])\n",
    "change_spacing = True\n",
    "new_spacing = [1, 1, 5]\n",
    "fine_to_thick = False"
   ]
  },
  {
   "cell_type": "code",
   "execution_count": 12,
   "metadata": {},
   "outputs": [],
   "source": [
    "import nibabel as nib\n",
    "from checking import refine_dcm\n",
    "from preprocessing import get_pixels_hu, resample, find_largest\n",
    "from create_boxdata import standard_filename, get_dicominfo"
   ]
  },
  {
   "cell_type": "code",
   "execution_count": 13,
   "metadata": {},
   "outputs": [],
   "source": [
    "import nrrd"
   ]
  },
  {
   "cell_type": "code",
   "execution_count": 131,
   "metadata": {},
   "outputs": [],
   "source": [
    "tumor_id = 'AD105'"
   ]
  },
  {
   "cell_type": "code",
   "execution_count": 132,
   "metadata": {},
   "outputs": [],
   "source": [
    "imagefile = nib.load('/home/d/pancreas/no_label_data/' + tumor_id + '/' + tumor_id + 'img_55.nii.gz')"
   ]
  },
  {
   "cell_type": "code",
   "execution_count": 133,
   "metadata": {},
   "outputs": [],
   "source": [
    "image = imagefile.get_data()\n",
    "img_spacing = np.diag(imagefile.affine)[:3]\n",
    "img_origin = imagefile.affine[:, -1][:3]"
   ]
  },
  {
   "cell_type": "code",
   "execution_count": 134,
   "metadata": {},
   "outputs": [],
   "source": [
    "tumor_label, tumor_options = nrrd.read('/home/d/pancreas/no_label_data/' + tumor_id + '/' + tumor_id + '.seg.nrrd')"
   ]
  },
  {
   "cell_type": "code",
   "execution_count": 135,
   "metadata": {},
   "outputs": [],
   "source": [
    "label_shape = np.array(tumor_label.shape[1:]) \\\n",
    "    if len(tumor_label.shape) == 4 else np.array(tumor_label.shape)\n",
    "\n",
    "seg_origin = np.array(tumor_options['space origin'], dtype=float)\n",
    "if np.all(np.isnan(tumor_options['space directions'][0])):\n",
    "    seg_spacing = np.diag(np.array(tumor_options['space directions'][1:])\n",
    "                          .astype(float))\n",
    "else:\n",
    "    seg_spacing = np.diag(np.array(tumor_options['space directions'])\n",
    "                          .astype(float))"
   ]
  },
  {
   "cell_type": "code",
   "execution_count": 136,
   "metadata": {},
   "outputs": [],
   "source": [
    "seg_origin_idx = np.round((seg_origin / seg_spacing -\n",
    "                           img_origin / img_spacing)).astype(int)"
   ]
  },
  {
   "cell_type": "code",
   "execution_count": 137,
   "metadata": {},
   "outputs": [],
   "source": [
    "box_origin_idx = seg_origin_idx - border\n",
    "box_length = label_shape + 2 * border\n",
    "\n",
    "x_orgidx, y_orgidx, z_orgidx = box_origin_idx\n",
    "x_len, y_len, z_len = box_length\n",
    "x_border, y_border, z_border = border\n",
    "\n",
    "crop_img = image[x_orgidx: x_orgidx+x_len, y_orgidx: y_orgidx+y_len, z_orgidx: z_orgidx+z_len]"
   ]
  },
  {
   "cell_type": "code",
   "execution_count": 138,
   "metadata": {},
   "outputs": [],
   "source": [
    "if change_spacing:\n",
    "    crop_img, _ = resample(crop_img, abs(img_spacing), new_spacing)"
   ]
  },
  {
   "cell_type": "code",
   "execution_count": 139,
   "metadata": {},
   "outputs": [],
   "source": [
    "category_cnt = tumor_label.shape[0] \\\n",
    "    if tumor_options['dimension'] == 4 else 1\n",
    "category_names = [tumor_options['Segment{}_Name'.format(c)]\n",
    "                  for c in range(category_cnt)]\n",
    "label = []\n",
    "for i, category_name in enumerate(category_names):\n",
    "    category_label = np.zeros(box_length)\n",
    "    if len(tumor_label.shape) == 4:\n",
    "        category_label[x_border: x_len-x_border,\n",
    "                       y_border: y_len-y_border,\n",
    "                       z_border: z_len-z_border] = tumor_label[i]\n",
    "    else:\n",
    "        category_label[x_border: x_len-x_border,\n",
    "                       y_border: y_len-y_border,\n",
    "                       z_border: z_len-z_border] = tumor_label\n",
    "\n",
    "    if change_spacing:\n",
    "        category_label, _ = resample(category_label,\n",
    "                                     abs(img_spacing), new_spacing)\n",
    "    elif fine_to_thick:\n",
    "        category_label = finecut_to_thickcut(\n",
    "            category_label, thickness, label_mode=True)\n",
    "    save_name = standard_filename(category_name)\n",
    "    label.append([save_name, category_label])"
   ]
  },
  {
   "cell_type": "code",
   "execution_count": 140,
   "metadata": {},
   "outputs": [],
   "source": [
    "base_tumor_path = box_save_path + tumor_id + '/'\n",
    "if not os.path.exists(base_tumor_path):\n",
    "    os.mkdir(base_tumor_path)\n",
    "np.save(base_tumor_path + 'ctscan.npy', crop_img)\n",
    "\n",
    "for item in label:\n",
    "    np.save(base_tumor_path + item[0] + '.npy', item[1])"
   ]
  },
  {
   "cell_type": "code",
   "execution_count": 141,
   "metadata": {},
   "outputs": [],
   "source": [
    "pancreas = np.load('/home/d/pancreas/test_box_data/' + tumor_id + '/pancreas.npy')\n",
    "image = np.load('/home/d/pancreas/test_box_data/' + tumor_id + '/ctscan.npy')"
   ]
  },
  {
   "cell_type": "code",
   "execution_count": 142,
   "metadata": {},
   "outputs": [
    {
     "name": "stdout",
     "output_type": "stream",
     "text": [
      "(123, 74, 10) (123, 74, 10)\n"
     ]
    }
   ],
   "source": [
    "print(pancreas.shape, image.shape)"
   ]
  },
  {
   "cell_type": "code",
   "execution_count": null,
   "metadata": {},
   "outputs": [],
   "source": [
    "glob.glob('/home/d/pancreas/')"
   ]
  }
 ],
 "metadata": {
  "kernelspec": {
   "display_name": "Python 3",
   "language": "python",
   "name": "python3"
  },
  "language_info": {
   "codemirror_mode": {
    "name": "ipython",
    "version": 3
   },
   "file_extension": ".py",
   "mimetype": "text/x-python",
   "name": "python",
   "nbconvert_exporter": "python",
   "pygments_lexer": "ipython3",
   "version": "3.6.4"
  }
 },
 "nbformat": 4,
 "nbformat_minor": 2
}
