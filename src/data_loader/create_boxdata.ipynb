{
 "cells": [
  {
   "cell_type": "markdown",
   "metadata": {},
   "source": [
    "# Create boxdata\n",
    "* Input: label data\n",
    "* Output: numpy array CT iamge and label (pancreas, lesion)"
   ]
  },
  {
   "cell_type": "code",
   "execution_count": 1,
   "metadata": {},
   "outputs": [],
   "source": [
    "import time\n",
    "import os, glob, ntpath\n",
    "import logging\n",
    "from tqdm import tqdm_notebook as tqdm\n",
    "import numpy as np\n",
    "import pandas as pd\n",
    "import pydicom as dicom\n",
    "import nrrd\n",
    "import matplotlib.pyplot as plt\n",
    "from datetime import datetime as ddt"
   ]
  },
  {
   "cell_type": "code",
   "execution_count": 2,
   "metadata": {},
   "outputs": [
    {
     "name": "stderr",
     "output_type": "stream",
     "text": [
      "/home/u/sonic81518/.conda/envs/tinghui/lib/python3.6/site-packages/h5py/__init__.py:36: FutureWarning: Conversion of the second argument of issubdtype from `float` to `np.floating` is deprecated. In future, it will be treated as `np.float64 == np.dtype(float).type`.\n",
      "  from ._conv import register_converters as _register_converters\n"
     ]
    }
   ],
   "source": [
    "from create_boxdata import create_boxdata, create_AD_boxdata"
   ]
  },
  {
   "cell_type": "code",
   "execution_count": 3,
   "metadata": {},
   "outputs": [],
   "source": [
    "border = np.array([0, 0, 0])\n",
    "box_save_path = '/home/d/pancreas/resample115_box_data/'"
   ]
  },
  {
   "cell_type": "code",
   "execution_count": 4,
   "metadata": {},
   "outputs": [],
   "source": [
    "sortkey = lambda k: ntpath.basename(k).replace('.dcm', '').split('-')[-1]\n",
    "sortkey_PC = lambda k: int(ntpath.basename(k).replace('.dcm', '').split('I')[-1])"
   ]
  },
  {
   "cell_type": "code",
   "execution_count": null,
   "metadata": {},
   "outputs": [],
   "source": []
  },
  {
   "cell_type": "markdown",
   "metadata": {},
   "source": [
    "# Usage\n",
    "To view one simple case, just simply run `create_box_data`. It will return the numpy array of image and labels. <br>\n",
    "For NP and PT, please input **sortkey**; for PC, please input **sortkey_PC**."
   ]
  },
  {
   "cell_type": "code",
   "execution_count": 7,
   "metadata": {},
   "outputs": [],
   "source": [
    "image, label = create_boxdata('/home/d/pancreas/label_data/000027/PC67/', sortkey_PC)"
   ]
  },
  {
   "cell_type": "code",
   "execution_count": 8,
   "metadata": {},
   "outputs": [
    {
     "name": "stdout",
     "output_type": "stream",
     "text": [
      "Image shape: (110, 58, 14)\n",
      "Number of content in label: 3\n",
      "Total label name:\n",
      "  pancreas : (110, 58, 14)\n",
      "  lesion : (110, 58, 14)\n",
      "  pduct : (110, 58, 14)\n"
     ]
    }
   ],
   "source": [
    "print('Image shape:', image.shape)\n",
    "print('Number of content in label:', len(label))\n",
    "print('Total label name:')\n",
    "for item in label:\n",
    "    print(' ', item[0], ':', item[1].shape)"
   ]
  },
  {
   "cell_type": "markdown",
   "metadata": {},
   "source": [
    "# Create box data and save as numpy array"
   ]
  },
  {
   "cell_type": "code",
   "execution_count": 5,
   "metadata": {
    "scrolled": true
   },
   "outputs": [
    {
     "data": {
      "application/vnd.jupyter.widget-view+json": {
       "model_id": "52b173f7595c4f479894fc56b117d7c5",
       "version_major": 2,
       "version_minor": 0
      },
      "text/html": [
       "<p>Failed to display Jupyter Widget of type <code>HBox</code>.</p>\n",
       "<p>\n",
       "  If you're reading this message in the Jupyter Notebook or JupyterLab Notebook, it may mean\n",
       "  that the widgets JavaScript is still loading. If this message persists, it\n",
       "  likely means that the widgets JavaScript library is either not installed or\n",
       "  not enabled. See the <a href=\"https://ipywidgets.readthedocs.io/en/stable/user_install.html\">Jupyter\n",
       "  Widgets Documentation</a> for setup instructions.\n",
       "</p>\n",
       "<p>\n",
       "  If you're reading this message in another frontend (for example, a static\n",
       "  rendering on GitHub or <a href=\"https://nbviewer.jupyter.org/\">NBViewer</a>),\n",
       "  it may mean that your frontend doesn't currently support widgets.\n",
       "</p>\n"
      ],
      "text/plain": [
       "HBox(children=(IntProgress(value=0, max=44), HTML(value='')))"
      ]
     },
     "metadata": {},
     "output_type": "display_data"
    },
    {
     "name": "stderr",
     "output_type": "stream",
     "text": [
      "/home/u/sonic81518/.conda/envs/tinghui/lib/python3.6/site-packages/scipy/ndimage/interpolation.py:616: UserWarning: From scipy 0.13.0, the output shape of zoom() is calculated with round() instead of int() - for these inputs the size of the returned array has changed.\n",
      "  \"the returned array has changed.\", UserWarning)\n"
     ]
    },
    {
     "name": "stdout",
     "output_type": "stream",
     "text": [
      "\n",
      "Done create 44 box data in 29.50455069541931 seconds\n"
     ]
    }
   ],
   "source": [
    "st_tol = time.time()\n",
    "cnt = 0\n",
    "for tumorpath in tqdm(glob.glob('/home/d/pancreas/label_data/*/PT*/*nrrd')):\n",
    "    create_boxdata(tumorpath.replace('/label.nrrd','/'), sortkey, box_save_path=box_save_path)\n",
    "    cnt += 1\n",
    "print('Done create {} box data in {} seconds'.format(cnt, time.time()-st_tol))"
   ]
  },
  {
   "cell_type": "code",
   "execution_count": 6,
   "metadata": {},
   "outputs": [
    {
     "data": {
      "application/vnd.jupyter.widget-view+json": {
       "model_id": "3ba77add73724129bce75405ea30cbf9",
       "version_major": 2,
       "version_minor": 0
      },
      "text/html": [
       "<p>Failed to display Jupyter Widget of type <code>HBox</code>.</p>\n",
       "<p>\n",
       "  If you're reading this message in the Jupyter Notebook or JupyterLab Notebook, it may mean\n",
       "  that the widgets JavaScript is still loading. If this message persists, it\n",
       "  likely means that the widgets JavaScript library is either not installed or\n",
       "  not enabled. See the <a href=\"https://ipywidgets.readthedocs.io/en/stable/user_install.html\">Jupyter\n",
       "  Widgets Documentation</a> for setup instructions.\n",
       "</p>\n",
       "<p>\n",
       "  If you're reading this message in another frontend (for example, a static\n",
       "  rendering on GitHub or <a href=\"https://nbviewer.jupyter.org/\">NBViewer</a>),\n",
       "  it may mean that your frontend doesn't currently support widgets.\n",
       "</p>\n"
      ],
      "text/plain": [
       "HBox(children=(IntProgress(value=0, max=10), HTML(value='')))"
      ]
     },
     "metadata": {},
     "output_type": "display_data"
    },
    {
     "name": "stdout",
     "output_type": "stream",
     "text": [
      "\n",
      "Done create 10 box data in 4.836451530456543 seconds\n"
     ]
    }
   ],
   "source": [
    "st_tol = time.time()\n",
    "cnt = 0\n",
    "for tumorpath in tqdm(glob.glob('/home/d/pancreas/label_data/*/NP*/*nrrd')):\n",
    "    create_boxdata(tumorpath.replace('/label.nrrd','/'), sortkey, box_save_path=box_save_path)\n",
    "    cnt += 1\n",
    "print('Done create {} box data in {} seconds'.format(cnt, time.time()-st_tol))"
   ]
  },
  {
   "cell_type": "code",
   "execution_count": 5,
   "metadata": {},
   "outputs": [
    {
     "data": {
      "application/vnd.jupyter.widget-view+json": {
       "model_id": "aa19bc95cab94630ae6bcdf8b64bf7d5",
       "version_major": 2,
       "version_minor": 0
      },
      "text/html": [
       "<p>Failed to display Jupyter Widget of type <code>HBox</code>.</p>\n",
       "<p>\n",
       "  If you're reading this message in the Jupyter Notebook or JupyterLab Notebook, it may mean\n",
       "  that the widgets JavaScript is still loading. If this message persists, it\n",
       "  likely means that the widgets JavaScript library is either not installed or\n",
       "  not enabled. See the <a href=\"https://ipywidgets.readthedocs.io/en/stable/user_install.html\">Jupyter\n",
       "  Widgets Documentation</a> for setup instructions.\n",
       "</p>\n",
       "<p>\n",
       "  If you're reading this message in another frontend (for example, a static\n",
       "  rendering on GitHub or <a href=\"https://nbviewer.jupyter.org/\">NBViewer</a>),\n",
       "  it may mean that your frontend doesn't currently support widgets.\n",
       "</p>\n"
      ],
      "text/plain": [
       "HBox(children=(IntProgress(value=0, max=104), HTML(value='')))"
      ]
     },
     "metadata": {},
     "output_type": "display_data"
    },
    {
     "name": "stdout",
     "output_type": "stream",
     "text": [
      "/home/d/pancreas/label_data/000282/PC134/label.nrrd\n",
      "/home/d/pancreas/label_data/000322/PC252/label.nrrd\n",
      "/home/d/pancreas/label_data/000263/PC78/label.nrrd\n",
      "/home/d/pancreas/label_data/000136/PC38/label.nrrd\n",
      "/home/d/pancreas/label_data/000149/PC2/label.nrrd\n",
      "/home/d/pancreas/label_data/000309/PC167/label.nrrd\n",
      "/home/d/pancreas/label_data/000309/PC168/label.nrrd\n",
      "/home/d/pancreas/label_data/000309/PC166/label.nrrd\n",
      "/home/d/pancreas/label_data/000350/PC306/label.nrrd\n",
      "/home/d/pancreas/label_data/000339/PC273/label.nrrd\n",
      "/home/d/pancreas/label_data/000329/PC349/label.nrrd\n",
      "/home/d/pancreas/label_data/000140/PC3/label.nrrd\n",
      "/home/d/pancreas/label_data/000312/PC246/label.nrrd\n",
      "/home/d/pancreas/label_data/000351/PC301/label.nrrd\n",
      "/home/d/pancreas/label_data/000285/PC116/label.nrrd\n",
      "/home/d/pancreas/label_data/000147/PC55/label.nrrd\n",
      "/home/d/pancreas/label_data/000334/PC319/label.nrrd\n",
      "/home/d/pancreas/label_data/000144/PC34/label.nrrd\n",
      "/home/d/pancreas/label_data/000144/PC32/label.nrrd\n",
      "/home/d/pancreas/label_data/000144/PC31/label.nrrd\n",
      "/home/d/pancreas/label_data/000144/PC35/label.nrrd\n",
      "/home/d/pancreas/label_data/000144/PC33/label.nrrd\n",
      "/home/d/pancreas/label_data/000143/PC37/label.nrrd\n",
      "/home/d/pancreas/label_data/000296/PC139/label.nrrd\n",
      "/home/d/pancreas/label_data/000311/PC303/label.nrrd\n",
      "/home/d/pancreas/label_data/000284/PC104/label.nrrd\n",
      "/home/d/pancreas/label_data/000269/PC110/label.nrrd\n",
      "/home/d/pancreas/label_data/000275/PC131/label.nrrd\n",
      "/home/d/pancreas/label_data/000275/PC132/label.nrrd\n",
      "/home/d/pancreas/label_data/000150/PC58/label.nrrd\n",
      "/home/d/pancreas/label_data/000300/PC151/label.nrrd\n",
      "/home/d/pancreas/label_data/000353/PC335/label.nrrd\n",
      "/home/d/pancreas/label_data/000348/PC350/label.nrrd\n",
      "/home/d/pancreas/label_data/000298/PC152/label.nrrd\n",
      "/home/d/pancreas/label_data/000279/PC130/label.nrrd\n",
      "/home/d/pancreas/label_data/000330/PC278/label.nrrd\n",
      "/home/d/pancreas/label_data/000340/PC242/label.nrrd\n",
      "/home/d/pancreas/label_data/000302/PC144/label.nrrd\n",
      "/home/d/pancreas/label_data/000328/PC336/label.nrrd\n",
      "/home/d/pancreas/label_data/000270/PC105/label.nrrd\n",
      "/home/d/pancreas/label_data/000266/PC97/label.nrrd\n",
      "/home/d/pancreas/label_data/000278/PC103/label.nrrd\n",
      "/home/d/pancreas/label_data/000295/PC143/label.nrrd\n",
      "/home/d/pancreas/label_data/000271/PC107/label.nrrd\n",
      "/home/d/pancreas/label_data/000271/PC109/label.nrrd\n",
      "/home/d/pancreas/label_data/000305/PC285/label.nrrd\n",
      "/home/d/pancreas/label_data/000273/PC98/label.nrrd\n",
      "/home/d/pancreas/label_data/000273/PC100/label.nrrd\n",
      "/home/d/pancreas/label_data/000299/PC159/label.nrrd\n",
      "/home/d/pancreas/label_data/000344/PC295/label.nrrd\n",
      "/home/d/pancreas/label_data/000281/PC72/label.nrrd\n",
      "/home/d/pancreas/label_data/000281/PC73/label.nrrd\n",
      "/home/d/pancreas/label_data/000264/PC70/label.nrrd\n",
      "/home/d/pancreas/label_data/000319/PC290/label.nrrd\n",
      "/home/d/pancreas/label_data/000323/PC348/label.nrrd\n",
      "/home/d/pancreas/label_data/000314/PC269/label.nrrd\n",
      "/home/d/pancreas/label_data/000146/PC48/label.nrrd\n",
      "/home/d/pancreas/label_data/000146/PC49/label.nrrd\n",
      "/home/d/pancreas/label_data/000146/PC47/label.nrrd\n",
      "/home/d/pancreas/label_data/000301/PC160/label.nrrd\n",
      "/home/d/pancreas/label_data/000135/PC41/label.nrrd\n",
      "/home/d/pancreas/label_data/000324/PC267/label.nrrd\n",
      "/home/d/pancreas/label_data/000262/PC123/label.nrrd\n",
      "/home/d/pancreas/label_data/000343/PC304/label.nrrd\n",
      "/home/d/pancreas/label_data/000133/PC15/label.nrrd\n",
      "/home/d/pancreas/label_data/000133/PC21/label.nrrd\n",
      "/home/d/pancreas/label_data/000133/PC19/label.nrrd\n",
      "/home/d/pancreas/label_data/000133/PC18/label.nrrd\n",
      "/home/d/pancreas/label_data/000133/PC20/label.nrrd\n",
      "/home/d/pancreas/label_data/000276/PC115/label.nrrd\n",
      "/home/d/pancreas/label_data/000346/PC294/label.nrrd\n",
      "/home/d/pancreas/label_data/000349/PC277/label.nrrd\n",
      "/home/d/pancreas/label_data/000341/PC256/label.nrrd\n",
      "/home/d/pancreas/label_data/000337/PC170/label.nrrd\n",
      "/home/d/pancreas/label_data/000310/PC251/label.nrrd\n",
      "/home/d/pancreas/label_data/000306/PC176/label.nrrd\n",
      "/home/d/pancreas/label_data/000148/PC54/label.nrrd\n",
      "/home/d/pancreas/label_data/000134/PC52/label.nrrd\n",
      "/home/d/pancreas/label_data/000134/PC53/label.nrrd\n",
      "/home/d/pancreas/label_data/000134/PC51/label.nrrd\n",
      "/home/d/pancreas/label_data/000134/PC50/label.nrrd\n",
      "/home/d/pancreas/label_data/000138/PC29/label.nrrd\n",
      "/home/d/pancreas/label_data/000138/PC28/label.nrrd\n",
      "/home/d/pancreas/label_data/000138/PC30/label.nrrd\n",
      "/home/d/pancreas/label_data/000138/PC27/label.nrrd\n",
      "/home/d/pancreas/label_data/000139/PC42/label.nrrd\n",
      "/home/d/pancreas/label_data/000320/PC322/label.nrrd\n",
      "/home/d/pancreas/label_data/000142/PC13/label.nrrd\n",
      "/home/d/pancreas/label_data/000142/PC6/label.nrrd\n",
      "/home/d/pancreas/label_data/000142/PC5/label.nrrd\n",
      "/home/d/pancreas/label_data/000268/PC117/label.nrrd\n",
      "/home/d/pancreas/label_data/000145/PC39/label.nrrd\n",
      "/home/d/pancreas/label_data/000283/PC125/label.nrrd\n",
      "/home/d/pancreas/label_data/000274/PC89/label.nrrd\n",
      "/home/d/pancreas/label_data/000265/PC83/label.nrrd\n",
      "/home/d/pancreas/label_data/000297/PC147/label.nrrd\n",
      "/home/d/pancreas/label_data/000325/PC259/label.nrrd\n",
      "/home/d/pancreas/label_data/000141/PC1/label.nrrd\n",
      "/home/d/pancreas/label_data/000338/PC332/label.nrrd\n",
      "/home/d/pancreas/label_data/000277/PC79/label.nrrd\n",
      "/home/d/pancreas/label_data/000027/PC63/label.nrrd\n",
      "/home/d/pancreas/label_data/000027/PC66/label.nrrd\n",
      "/home/d/pancreas/label_data/000027/PC67/label.nrrd\n",
      "/home/d/pancreas/label_data/000137/PC40/label.nrrd\n",
      "\n",
      "Done create 0 box data in 0.10306668281555176 seconds\n"
     ]
    }
   ],
   "source": [
    "st_tol = time.time()\n",
    "cnt = 0\n",
    "for tumorpath in tqdm(glob.glob('/home/d/pancreas/label_data/*/PC*/*nrrd')):\n",
    "    try:\n",
    "        create_box_data(tumorpath.replace('/label.nrrd','/'), sortkey_PC, box_save_path=box_save_path)\n",
    "        cnt += 1\n",
    "    except:\n",
    "        print(tumorpath)\n",
    "print('Done create {} box data in {} seconds'.format(cnt, time.time()-st_tol))"
   ]
  },
  {
   "cell_type": "code",
   "execution_count": 5,
   "metadata": {},
   "outputs": [
    {
     "data": {
      "application/vnd.jupyter.widget-view+json": {
       "model_id": "1594043d95354d56b4f14b2ba3a1263e",
       "version_major": 2,
       "version_minor": 0
      },
      "text/html": [
       "<p>Failed to display Jupyter Widget of type <code>HBox</code>.</p>\n",
       "<p>\n",
       "  If you're reading this message in the Jupyter Notebook or JupyterLab Notebook, it may mean\n",
       "  that the widgets JavaScript is still loading. If this message persists, it\n",
       "  likely means that the widgets JavaScript library is either not installed or\n",
       "  not enabled. See the <a href=\"https://ipywidgets.readthedocs.io/en/stable/user_install.html\">Jupyter\n",
       "  Widgets Documentation</a> for setup instructions.\n",
       "</p>\n",
       "<p>\n",
       "  If you're reading this message in another frontend (for example, a static\n",
       "  rendering on GitHub or <a href=\"https://nbviewer.jupyter.org/\">NBViewer</a>),\n",
       "  it may mean that your frontend doesn't currently support widgets.\n",
       "</p>\n"
      ],
      "text/plain": [
       "HBox(children=(IntProgress(value=0, max=92), HTML(value='')))"
      ]
     },
     "metadata": {},
     "output_type": "display_data"
    },
    {
     "name": "stderr",
     "output_type": "stream",
     "text": [
      "/home/u/sonic81518/.conda/envs/tinghui/lib/python3.6/site-packages/scipy/ndimage/interpolation.py:616: UserWarning: From scipy 0.13.0, the output shape of zoom() is calculated with round() instead of int() - for these inputs the size of the returned array has changed.\n",
      "  \"the returned array has changed.\", UserWarning)\n"
     ]
    },
    {
     "name": "stdout",
     "output_type": "stream",
     "text": [
      "\n",
      "Done create 92 box data in 836.549525976181 seconds\n"
     ]
    }
   ],
   "source": [
    "st_tol = time.time()\n",
    "cnt = 0\n",
    "for tumorpath in tqdm(glob.glob('/home/d/pancreas/no_label_data/AD*/')):\n",
    "    try:\n",
    "        create_AD_boxdata(tumorpath.replace('/label.nrrd','/'), sortkey, box_save_path=box_save_path)\n",
    "        cnt += 1\n",
    "    except:\n",
    "        print(tumorpath)\n",
    "print('Done create {} box data in {} seconds'.format(cnt, time.time()-st_tol))"
   ]
  },
  {
   "cell_type": "code",
   "execution_count": 5,
   "metadata": {},
   "outputs": [],
   "source": [
    "import nibabel as nib"
   ]
  },
  {
   "cell_type": "code",
   "execution_count": 8,
   "metadata": {},
   "outputs": [
    {
     "name": "stdout",
     "output_type": "stream",
     "text": [
      "[[-1.  0.  0.  0.]\n",
      " [ 0. -1.  0.  0.]\n",
      " [ 0.  0.  1.  0.]\n",
      " [ 0.  0.  0.  1.]]\n"
     ]
    }
   ],
   "source": [
    "affine = np.eye(4)\n",
    "affine[0,0] = -1\n",
    "affine[1,1] = -1\n",
    "print(affine)"
   ]
  },
  {
   "cell_type": "code",
   "execution_count": 9,
   "metadata": {},
   "outputs": [
    {
     "data": {
      "application/vnd.jupyter.widget-view+json": {
       "model_id": "4d19ec5376e8410a9bed574e2dc3528d",
       "version_major": 2,
       "version_minor": 0
      },
      "text/html": [
       "<p>Failed to display Jupyter Widget of type <code>HBox</code>.</p>\n",
       "<p>\n",
       "  If you're reading this message in the Jupyter Notebook or JupyterLab Notebook, it may mean\n",
       "  that the widgets JavaScript is still loading. If this message persists, it\n",
       "  likely means that the widgets JavaScript library is either not installed or\n",
       "  not enabled. See the <a href=\"https://ipywidgets.readthedocs.io/en/stable/user_install.html\">Jupyter\n",
       "  Widgets Documentation</a> for setup instructions.\n",
       "</p>\n",
       "<p>\n",
       "  If you're reading this message in another frontend (for example, a static\n",
       "  rendering on GitHub or <a href=\"https://nbviewer.jupyter.org/\">NBViewer</a>),\n",
       "  it may mean that your frontend doesn't currently support widgets.\n",
       "</p>\n"
      ],
      "text/plain": [
       "HBox(children=(IntProgress(value=0, max=92), HTML(value='')))"
      ]
     },
     "metadata": {},
     "output_type": "display_data"
    },
    {
     "name": "stdout",
     "output_type": "stream",
     "text": [
      "\n"
     ]
    },
    {
     "name": "stderr",
     "output_type": "stream",
     "text": [
      "/home/u/sonic81518/.conda/envs/tinghui/lib/python3.6/site-packages/scipy/ndimage/interpolation.py:616: UserWarning: From scipy 0.13.0, the output shape of zoom() is calculated with round() instead of int() - for these inputs the size of the returned array has changed.\n",
      "  \"the returned array has changed.\", UserWarning)\n"
     ]
    },
    {
     "name": "stdout",
     "output_type": "stream",
     "text": [
      "\n"
     ]
    }
   ],
   "source": [
    "for tumorpath in tqdm(glob.glob('/home/d/pancreas/no_label_data/AD*/')):\n",
    "    ID = tumorpath.split('/')[-2]\n",
    "    img, lbl = create_AD_boxdata(tumorpath.replace('/label.nrrd', '/'), sortkey, new_spacing=[1, 1, 1])\n",
    "    image = nib.Nifti1Image(img, affine)\n",
    "    image.to_filename('/home/d/pancreas/box_nifti/' + ID + 'img.nii.gz')\n",
    "    label = nib.Nifti1Image(lbl, affine)\n",
    "    label.to_filename('/home/d/pancreas/box_nifti/' + ID + 'lbl.nii.gz')"
   ]
  },
  {
   "cell_type": "code",
   "execution_count": null,
   "metadata": {},
   "outputs": [],
   "source": []
  }
 ],
 "metadata": {
  "kernelspec": {
   "display_name": "Python 3",
   "language": "python",
   "name": "python3"
  },
  "language_info": {
   "codemirror_mode": {
    "name": "ipython",
    "version": 3
   },
   "file_extension": ".py",
   "mimetype": "text/x-python",
   "name": "python",
   "nbconvert_exporter": "python",
   "pygments_lexer": "ipython3",
   "version": "3.6.4"
  }
 },
 "nbformat": 4,
 "nbformat_minor": 2
}
