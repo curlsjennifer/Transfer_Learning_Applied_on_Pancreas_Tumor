{
 "cells": [
  {
   "cell_type": "markdown",
   "metadata": {},
   "source": [
    "# Create boxdata\n",
    "* Input: label data\n",
    "* Output: numpy array CT iamge and label (pancreas, lesion)"
   ]
  },
  {
   "cell_type": "code",
   "execution_count": 1,
   "metadata": {},
   "outputs": [],
   "source": [
    "import time\n",
    "import os, glob, ntpath\n",
    "import logging\n",
    "from tqdm import tqdm_notebook as tqdm\n",
    "import numpy as np\n",
    "import pandas as pd\n",
    "import pydicom as dicom\n",
    "import nrrd\n",
    "import matplotlib.pyplot as plt\n",
    "from datetime import datetime as ddt"
   ]
  },
  {
   "cell_type": "code",
   "execution_count": 2,
   "metadata": {},
   "outputs": [
    {
     "name": "stderr",
     "output_type": "stream",
     "text": [
      "/home/u/sonic81518/.conda/envs/tinghui/lib/python3.6/site-packages/h5py/__init__.py:36: FutureWarning: Conversion of the second argument of issubdtype from `float` to `np.floating` is deprecated. In future, it will be treated as `np.float64 == np.dtype(float).type`.\n",
      "  from ._conv import register_converters as _register_converters\n"
     ]
    }
   ],
   "source": [
    "from create_boxdata import create_boxdata, create_AD_boxdata"
   ]
  },
  {
   "cell_type": "code",
   "execution_count": 3,
   "metadata": {},
   "outputs": [],
   "source": [
    "border = np.array([0, 0, 0])\n",
    "# box_save_path = '/home/d/pancreas/resample115_box_data/'\n",
    "box_save_path = '/home/d/pancreas/test/'"
   ]
  },
  {
   "cell_type": "code",
   "execution_count": 4,
   "metadata": {},
   "outputs": [],
   "source": [
    "sortkey = lambda k: ntpath.basename(k).replace('.dcm', '').split('-')[-1]\n",
    "sortkey_PC = lambda k: int(ntpath.basename(k).replace('.dcm', '').split('I')[-1])"
   ]
  },
  {
   "cell_type": "code",
   "execution_count": null,
   "metadata": {},
   "outputs": [],
   "source": []
  },
  {
   "cell_type": "markdown",
   "metadata": {},
   "source": [
    "# Usage\n",
    "To view one simple case, just simply run `create_box_data`. It will return the numpy array of image and labels. <br>\n",
    "For NP and PT, please input **sortkey**; for PC, please input **sortkey_PC**."
   ]
  },
  {
   "cell_type": "code",
   "execution_count": 7,
   "metadata": {},
   "outputs": [],
   "source": [
    "image, label = create_boxdata('/home/d/pancreas/label_data/000027/PC67/', sortkey_PC)"
   ]
  },
  {
   "cell_type": "code",
   "execution_count": 8,
   "metadata": {},
   "outputs": [
    {
     "name": "stdout",
     "output_type": "stream",
     "text": [
      "Image shape: (110, 58, 14)\n",
      "Number of content in label: 3\n",
      "Total label name:\n",
      "  pancreas : (110, 58, 14)\n",
      "  lesion : (110, 58, 14)\n",
      "  pduct : (110, 58, 14)\n"
     ]
    }
   ],
   "source": [
    "print('Image shape:', image.shape)\n",
    "print('Number of content in label:', len(label))\n",
    "print('Total label name:')\n",
    "for item in label:\n",
    "    print(' ', item[0], ':', item[1].shape)"
   ]
  },
  {
   "cell_type": "code",
   "execution_count": 10,
   "metadata": {},
   "outputs": [],
   "source": [
    "data_path = '/home/u/sonic81518/C3L-00189/'"
   ]
  },
  {
   "cell_type": "code",
   "execution_count": 11,
   "metadata": {},
   "outputs": [],
   "source": [
    "sortkey = lambda k: ntpath.basename(k).split('.')[0]"
   ]
  },
  {
   "cell_type": "code",
   "execution_count": 17,
   "metadata": {},
   "outputs": [
    {
     "data": {
      "text/plain": [
       "(array([[[ -94,   45, -122, ..., -129,   94,  -53],\n",
       "         [-115,   58, -134, ..., -128,   74,  -39],\n",
       "         [ -97,   60, -144, ..., -128,   83,   -4],\n",
       "         ...,\n",
       "         [ 121, -731,  -87, ...,    5,  135,  -27],\n",
       "         [ 133, -746,  -81, ...,  -45,  163,  -27],\n",
       "         [ 113, -744,  -52, ...,  -35,  144,  -45]],\n",
       " \n",
       "        [[-103,   50, -137, ..., -129,  103,  -51],\n",
       "         [-124,   78, -133, ..., -129,  102,  -29],\n",
       "         [ -97,   76, -134, ..., -102,   87,    1],\n",
       "         ...,\n",
       "         [ 119, -752,  -95, ...,  -50,  129,   16],\n",
       "         [ 134, -753,  -93, ...,  -61,  144,   23],\n",
       "         [ 145, -748,  -63, ...,  -41,  130,  -10]],\n",
       " \n",
       "        [[ -97,   64, -140, ..., -105,   91,  -27],\n",
       "         [-112,   77, -129, ..., -116,   98,    1],\n",
       "         [ -78,   78, -120, ...,  -90,   81,   10],\n",
       "         ...,\n",
       "         [ 119, -755, -108, ...,  -55,  151,   13],\n",
       "         [ 126, -743,  -88, ...,  -57,  132,    5],\n",
       "         [ 155, -726,  -79, ...,  -44,  124,  -29]],\n",
       " \n",
       "        ...,\n",
       " \n",
       "        [[ 188,  111, -170, ..., -107,  -68,    5],\n",
       "         [ 154,  101, -123, ..., -106,  -77,  -24],\n",
       "         [ 152,  122, -136, ..., -117, -112,  -24],\n",
       "         ...,\n",
       "         [ -96, -756,   62, ...,  -69, -107,  174],\n",
       "         [ -89, -766,   61, ...,  -43, -122,  176],\n",
       "         [ -84, -776,   52, ...,  -26, -104,  146]],\n",
       " \n",
       "        [[ 184,   93, -123, ..., -106,  -35,  100],\n",
       "         [ 158,  114, -128, ..., -115,  -69,   68],\n",
       "         [ 158,  136, -143, ..., -117, -103,   48],\n",
       "         ...,\n",
       "         [ -95, -776,   47, ...,  -26,  -92,  177],\n",
       "         [ -78, -774,   50, ...,  -46, -124,  183],\n",
       "         [ -99, -792,   37, ...,  -36, -118,  153]],\n",
       " \n",
       "        [[ 219,  119, -111, ..., -117,    9,  146],\n",
       "         [ 172,  120, -135, ..., -121,  -20,  114],\n",
       "         [ 176,   85, -152, ..., -123,  -49,   90],\n",
       "         ...,\n",
       "         [ -89, -775,   15, ...,    8,  -90,  154],\n",
       "         [ -85, -785,   38, ...,  -14, -103,  169],\n",
       "         [-112, -787,   37, ...,  -24, -103,  155]]], dtype=int16),\n",
       " [['pancreas', array([[[0., 0., 0., ..., 0., 0., 0.],\n",
       "           [0., 0., 0., ..., 0., 0., 0.],\n",
       "           [0., 0., 0., ..., 0., 0., 0.],\n",
       "           ...,\n",
       "           [0., 0., 0., ..., 0., 0., 0.],\n",
       "           [0., 0., 0., ..., 0., 0., 0.],\n",
       "           [0., 0., 0., ..., 0., 0., 0.]],\n",
       "   \n",
       "          [[0., 0., 0., ..., 0., 0., 0.],\n",
       "           [0., 0., 0., ..., 0., 0., 0.],\n",
       "           [0., 0., 0., ..., 0., 0., 0.],\n",
       "           ...,\n",
       "           [0., 0., 0., ..., 0., 0., 0.],\n",
       "           [0., 0., 0., ..., 0., 0., 0.],\n",
       "           [0., 0., 0., ..., 0., 0., 0.]],\n",
       "   \n",
       "          [[0., 0., 0., ..., 0., 0., 0.],\n",
       "           [0., 0., 0., ..., 0., 0., 0.],\n",
       "           [0., 0., 0., ..., 0., 0., 0.],\n",
       "           ...,\n",
       "           [0., 0., 0., ..., 0., 0., 0.],\n",
       "           [0., 0., 0., ..., 0., 0., 0.],\n",
       "           [0., 0., 0., ..., 0., 0., 0.]],\n",
       "   \n",
       "          ...,\n",
       "   \n",
       "          [[0., 0., 0., ..., 0., 0., 0.],\n",
       "           [0., 0., 0., ..., 0., 0., 0.],\n",
       "           [0., 0., 0., ..., 0., 0., 0.],\n",
       "           ...,\n",
       "           [0., 0., 0., ..., 0., 0., 0.],\n",
       "           [0., 0., 0., ..., 0., 0., 0.],\n",
       "           [0., 0., 0., ..., 0., 0., 0.]],\n",
       "   \n",
       "          [[0., 0., 0., ..., 0., 0., 0.],\n",
       "           [0., 0., 0., ..., 0., 0., 0.],\n",
       "           [0., 0., 0., ..., 0., 0., 0.],\n",
       "           ...,\n",
       "           [0., 0., 0., ..., 0., 0., 0.],\n",
       "           [0., 0., 0., ..., 0., 0., 0.],\n",
       "           [0., 0., 0., ..., 0., 0., 0.]],\n",
       "   \n",
       "          [[0., 0., 0., ..., 0., 0., 0.],\n",
       "           [0., 0., 0., ..., 0., 0., 0.],\n",
       "           [0., 0., 0., ..., 0., 0., 0.],\n",
       "           ...,\n",
       "           [0., 0., 0., ..., 0., 0., 0.],\n",
       "           [0., 0., 0., ..., 0., 0., 0.],\n",
       "           [0., 0., 0., ..., 0., 0., 0.]]])]])"
      ]
     },
     "execution_count": 17,
     "metadata": {},
     "output_type": "execute_result"
    }
   ],
   "source": [
    "create_boxdata(data_path, sortkey, box_save_path=box_save_path, change_spacing=False)"
   ]
  },
  {
   "cell_type": "markdown",
   "metadata": {},
   "source": [
    "# Create box data and save as numpy array"
   ]
  },
  {
   "cell_type": "code",
   "execution_count": 5,
   "metadata": {
    "scrolled": true
   },
   "outputs": [
    {
     "data": {
      "application/vnd.jupyter.widget-view+json": {
       "model_id": "3a840d9948114efda606c3c7697a0bab",
       "version_major": 2,
       "version_minor": 0
      },
      "text/html": [
       "<p>Failed to display Jupyter Widget of type <code>HBox</code>.</p>\n",
       "<p>\n",
       "  If you're reading this message in the Jupyter Notebook or JupyterLab Notebook, it may mean\n",
       "  that the widgets JavaScript is still loading. If this message persists, it\n",
       "  likely means that the widgets JavaScript library is either not installed or\n",
       "  not enabled. See the <a href=\"https://ipywidgets.readthedocs.io/en/stable/user_install.html\">Jupyter\n",
       "  Widgets Documentation</a> for setup instructions.\n",
       "</p>\n",
       "<p>\n",
       "  If you're reading this message in another frontend (for example, a static\n",
       "  rendering on GitHub or <a href=\"https://nbviewer.jupyter.org/\">NBViewer</a>),\n",
       "  it may mean that your frontend doesn't currently support widgets.\n",
       "</p>\n"
      ],
      "text/plain": [
       "HBox(children=(IntProgress(value=0, max=44), HTML(value='')))"
      ]
     },
     "metadata": {},
     "output_type": "display_data"
    },
    {
     "name": "stderr",
     "output_type": "stream",
     "text": [
      "/home/u/sonic81518/.conda/envs/tinghui/lib/python3.6/site-packages/scipy/ndimage/interpolation.py:616: UserWarning: From scipy 0.13.0, the output shape of zoom() is calculated with round() instead of int() - for these inputs the size of the returned array has changed.\n",
      "  \"the returned array has changed.\", UserWarning)\n"
     ]
    },
    {
     "name": "stdout",
     "output_type": "stream",
     "text": [
      "\n",
      "Done create 44 box data in 87.85057210922241 seconds\n"
     ]
    }
   ],
   "source": [
    "st_tol = time.time()\n",
    "cnt = 0\n",
    "for tumorpath in tqdm(glob.glob('/home/d/pancreas/label_data/*/PT*/*nrrd')):\n",
    "    create_boxdata(tumorpath.replace('/label.nrrd','/'), sortkey, box_save_path=box_save_path, fine_to_thick=True, change_spacing=True)\n",
    "    cnt += 1\n",
    "print('Done create {} box data in {} seconds'.format(cnt, time.time()-st_tol))"
   ]
  },
  {
   "cell_type": "code",
   "execution_count": 153,
   "metadata": {},
   "outputs": [
    {
     "data": {
      "application/vnd.jupyter.widget-view+json": {
       "model_id": "ce67ae01c03b4204815a6811cf245deb",
       "version_major": 2,
       "version_minor": 0
      },
      "text/html": [
       "<p>Failed to display Jupyter Widget of type <code>HBox</code>.</p>\n",
       "<p>\n",
       "  If you're reading this message in the Jupyter Notebook or JupyterLab Notebook, it may mean\n",
       "  that the widgets JavaScript is still loading. If this message persists, it\n",
       "  likely means that the widgets JavaScript library is either not installed or\n",
       "  not enabled. See the <a href=\"https://ipywidgets.readthedocs.io/en/stable/user_install.html\">Jupyter\n",
       "  Widgets Documentation</a> for setup instructions.\n",
       "</p>\n",
       "<p>\n",
       "  If you're reading this message in another frontend (for example, a static\n",
       "  rendering on GitHub or <a href=\"https://nbviewer.jupyter.org/\">NBViewer</a>),\n",
       "  it may mean that your frontend doesn't currently support widgets.\n",
       "</p>\n"
      ],
      "text/plain": [
       "HBox(children=(IntProgress(value=0, max=10), HTML(value='')))"
      ]
     },
     "metadata": {},
     "output_type": "display_data"
    },
    {
     "name": "stdout",
     "output_type": "stream",
     "text": [
      "\n",
      "Done create 10 box data in 6.057265520095825 seconds\n"
     ]
    }
   ],
   "source": [
    "st_tol = time.time()\n",
    "cnt = 0\n",
    "for tumorpath in tqdm(glob.glob('/home/d/pancreas/label_data/*/NP*/*nrrd')):\n",
    "    create_boxdata(tumorpath.replace('/label.nrrd','/'), sortkey, box_save_path=box_save_path, fine_to_thick=True, change_spacing=True)\n",
    "    cnt += 1\n",
    "print('Done create {} box data in {} seconds'.format(cnt, time.time()-st_tol))"
   ]
  },
  {
   "cell_type": "code",
   "execution_count": 7,
   "metadata": {},
   "outputs": [
    {
     "data": {
      "application/vnd.jupyter.widget-view+json": {
       "model_id": "c2db78ce35d9426dacbbd5cd528f3f0a",
       "version_major": 2,
       "version_minor": 0
      },
      "text/html": [
       "<p>Failed to display Jupyter Widget of type <code>HBox</code>.</p>\n",
       "<p>\n",
       "  If you're reading this message in the Jupyter Notebook or JupyterLab Notebook, it may mean\n",
       "  that the widgets JavaScript is still loading. If this message persists, it\n",
       "  likely means that the widgets JavaScript library is either not installed or\n",
       "  not enabled. See the <a href=\"https://ipywidgets.readthedocs.io/en/stable/user_install.html\">Jupyter\n",
       "  Widgets Documentation</a> for setup instructions.\n",
       "</p>\n",
       "<p>\n",
       "  If you're reading this message in another frontend (for example, a static\n",
       "  rendering on GitHub or <a href=\"https://nbviewer.jupyter.org/\">NBViewer</a>),\n",
       "  it may mean that your frontend doesn't currently support widgets.\n",
       "</p>\n"
      ],
      "text/plain": [
       "HBox(children=(IntProgress(value=0, max=104), HTML(value='')))"
      ]
     },
     "metadata": {},
     "output_type": "display_data"
    },
    {
     "name": "stderr",
     "output_type": "stream",
     "text": [
      "/home/u/sonic81518/.conda/envs/tinghui/lib/python3.6/site-packages/scipy/ndimage/interpolation.py:616: UserWarning: From scipy 0.13.0, the output shape of zoom() is calculated with round() instead of int() - for these inputs the size of the returned array has changed.\n",
      "  \"the returned array has changed.\", UserWarning)\n"
     ]
    },
    {
     "name": "stdout",
     "output_type": "stream",
     "text": [
      "\n",
      "Done create 104 box data in 45.17852425575256 seconds\n"
     ]
    }
   ],
   "source": [
    "st_tol = time.time()\n",
    "cnt = 0\n",
    "for tumorpath in tqdm(glob.glob('/home/d/pancreas/label_data/*/PC*/*nrrd')):\n",
    "    try:\n",
    "        create_boxdata(tumorpath.replace('/label.nrrd','/'), sortkey_PC, change_spacing=True, box_save_path=box_save_path)\n",
    "        cnt += 1\n",
    "    except:\n",
    "        print(tumorpath)\n",
    "print('Done create {} box data in {} seconds'.format(cnt, time.time()-st_tol))"
   ]
  },
  {
   "cell_type": "code",
   "execution_count": 8,
   "metadata": {},
   "outputs": [
    {
     "data": {
      "application/vnd.jupyter.widget-view+json": {
       "model_id": "047872552ae741fea4e1bb6d05673f72",
       "version_major": 2,
       "version_minor": 0
      },
      "text/html": [
       "<p>Failed to display Jupyter Widget of type <code>HBox</code>.</p>\n",
       "<p>\n",
       "  If you're reading this message in the Jupyter Notebook or JupyterLab Notebook, it may mean\n",
       "  that the widgets JavaScript is still loading. If this message persists, it\n",
       "  likely means that the widgets JavaScript library is either not installed or\n",
       "  not enabled. See the <a href=\"https://ipywidgets.readthedocs.io/en/stable/user_install.html\">Jupyter\n",
       "  Widgets Documentation</a> for setup instructions.\n",
       "</p>\n",
       "<p>\n",
       "  If you're reading this message in another frontend (for example, a static\n",
       "  rendering on GitHub or <a href=\"https://nbviewer.jupyter.org/\">NBViewer</a>),\n",
       "  it may mean that your frontend doesn't currently support widgets.\n",
       "</p>\n"
      ],
      "text/plain": [
       "HBox(children=(IntProgress(value=0, max=92), HTML(value='')))"
      ]
     },
     "metadata": {},
     "output_type": "display_data"
    },
    {
     "name": "stderr",
     "output_type": "stream",
     "text": [
      "/home/u/sonic81518/.conda/envs/tinghui/lib/python3.6/site-packages/scipy/ndimage/interpolation.py:616: UserWarning: From scipy 0.13.0, the output shape of zoom() is calculated with round() instead of int() - for these inputs the size of the returned array has changed.\n",
      "  \"the returned array has changed.\", UserWarning)\n"
     ]
    },
    {
     "name": "stdout",
     "output_type": "stream",
     "text": [
      "\n",
      "Done create 92 box data in 1028.5098505020142 seconds\n"
     ]
    }
   ],
   "source": [
    "st_tol = time.time()\n",
    "cnt = 0\n",
    "for tumorpath in tqdm(glob.glob('/home/d/pancreas/no_label_data/AD*/')):\n",
    "    try:\n",
    "        create_AD_boxdata(tumorpath.replace('/label.nrrd','/'), sortkey, box_save_path=box_save_path, fine_to_thick=True, change_spacing=True)\n",
    "        cnt += 1\n",
    "    except:\n",
    "        print(tumorpath)\n",
    "print('Done create {} box data in {} seconds'.format(cnt, time.time()-st_tol))"
   ]
  },
  {
   "cell_type": "code",
   "execution_count": 9,
   "metadata": {},
   "outputs": [
    {
     "data": {
      "application/vnd.jupyter.widget-view+json": {
       "model_id": "4d19ec5376e8410a9bed574e2dc3528d",
       "version_major": 2,
       "version_minor": 0
      },
      "text/html": [
       "<p>Failed to display Jupyter Widget of type <code>HBox</code>.</p>\n",
       "<p>\n",
       "  If you're reading this message in the Jupyter Notebook or JupyterLab Notebook, it may mean\n",
       "  that the widgets JavaScript is still loading. If this message persists, it\n",
       "  likely means that the widgets JavaScript library is either not installed or\n",
       "  not enabled. See the <a href=\"https://ipywidgets.readthedocs.io/en/stable/user_install.html\">Jupyter\n",
       "  Widgets Documentation</a> for setup instructions.\n",
       "</p>\n",
       "<p>\n",
       "  If you're reading this message in another frontend (for example, a static\n",
       "  rendering on GitHub or <a href=\"https://nbviewer.jupyter.org/\">NBViewer</a>),\n",
       "  it may mean that your frontend doesn't currently support widgets.\n",
       "</p>\n"
      ],
      "text/plain": [
       "HBox(children=(IntProgress(value=0, max=92), HTML(value='')))"
      ]
     },
     "metadata": {},
     "output_type": "display_data"
    },
    {
     "name": "stdout",
     "output_type": "stream",
     "text": [
      "\n"
     ]
    },
    {
     "name": "stderr",
     "output_type": "stream",
     "text": [
      "/home/u/sonic81518/.conda/envs/tinghui/lib/python3.6/site-packages/scipy/ndimage/interpolation.py:616: UserWarning: From scipy 0.13.0, the output shape of zoom() is calculated with round() instead of int() - for these inputs the size of the returned array has changed.\n",
      "  \"the returned array has changed.\", UserWarning)\n"
     ]
    },
    {
     "name": "stdout",
     "output_type": "stream",
     "text": [
      "\n"
     ]
    }
   ],
   "source": [
    "for tumorpath in tqdm(glob.glob('/home/d/pancreas/no_label_data/AD*/')):\n",
    "    ID = tumorpath.split('/')[-2]\n",
    "    img, lbl = create_AD_boxdata(tumorpath.replace('/label.nrrd', '/'), sortkey, new_spacing=[1, 1, 1])\n",
    "    image = nib.Nifti1Image(img, affine)\n",
    "    image.to_filename('/home/d/pancreas/box_nifti/' + ID + 'img.nii.gz')\n",
    "    label = nib.Nifti1Image(lbl, affine)\n",
    "    label.to_filename('/home/d/pancreas/box_nifti/' + ID + 'lbl.nii.gz')"
   ]
  },
  {
   "cell_type": "code",
   "execution_count": null,
   "metadata": {},
   "outputs": [],
   "source": []
  },
  {
   "cell_type": "code",
   "execution_count": null,
   "metadata": {},
   "outputs": [],
   "source": []
  },
  {
   "cell_type": "markdown",
   "metadata": {},
   "source": [
    "# Special: for the AD drawing by Dr. Chen"
   ]
  },
  {
   "cell_type": "code",
   "execution_count": 64,
   "metadata": {},
   "outputs": [],
   "source": [
    "border = np.array([0, 0, 0])\n",
    "change_spacing = True\n",
    "new_spacing = [1, 1, 5]\n",
    "fine_to_thick = False"
   ]
  },
  {
   "cell_type": "code",
   "execution_count": 12,
   "metadata": {},
   "outputs": [],
   "source": [
    "import nibabel as nib\n",
    "from checking import refine_dcm\n",
    "from preprocessing import get_pixels_hu, resample, find_largest\n",
    "from create_boxdata import standard_filename, get_dicominfo"
   ]
  },
  {
   "cell_type": "code",
   "execution_count": 13,
   "metadata": {},
   "outputs": [],
   "source": [
    "import nrrd"
   ]
  },
  {
   "cell_type": "code",
   "execution_count": 131,
   "metadata": {},
   "outputs": [],
   "source": [
    "tumor_id = 'AD105'"
   ]
  },
  {
   "cell_type": "code",
   "execution_count": 132,
   "metadata": {},
   "outputs": [],
   "source": [
    "imagefile = nib.load('/home/d/pancreas/no_label_data/' + tumor_id + '/' + tumor_id + 'img_55.nii.gz')"
   ]
  },
  {
   "cell_type": "code",
   "execution_count": 133,
   "metadata": {},
   "outputs": [],
   "source": [
    "image = imagefile.get_data()\n",
    "img_spacing = np.diag(imagefile.affine)[:3]\n",
    "img_origin = imagefile.affine[:, -1][:3]"
   ]
  },
  {
   "cell_type": "code",
   "execution_count": 134,
   "metadata": {},
   "outputs": [],
   "source": [
    "tumor_label, tumor_options = nrrd.read('/home/d/pancreas/no_label_data/' + tumor_id + '/' + tumor_id + '.seg.nrrd')"
   ]
  },
  {
   "cell_type": "code",
   "execution_count": 135,
   "metadata": {},
   "outputs": [],
   "source": [
    "label_shape = np.array(tumor_label.shape[1:]) \\\n",
    "    if len(tumor_label.shape) == 4 else np.array(tumor_label.shape)\n",
    "\n",
    "seg_origin = np.array(tumor_options['space origin'], dtype=float)\n",
    "if np.all(np.isnan(tumor_options['space directions'][0])):\n",
    "    seg_spacing = np.diag(np.array(tumor_options['space directions'][1:])\n",
    "                          .astype(float))\n",
    "else:\n",
    "    seg_spacing = np.diag(np.array(tumor_options['space directions'])\n",
    "                          .astype(float))"
   ]
  },
  {
   "cell_type": "code",
   "execution_count": 136,
   "metadata": {},
   "outputs": [],
   "source": [
    "seg_origin_idx = np.round((seg_origin / seg_spacing -\n",
    "                           img_origin / img_spacing)).astype(int)"
   ]
  },
  {
   "cell_type": "code",
   "execution_count": 137,
   "metadata": {},
   "outputs": [],
   "source": [
    "box_origin_idx = seg_origin_idx - border\n",
    "box_length = label_shape + 2 * border\n",
    "\n",
    "x_orgidx, y_orgidx, z_orgidx = box_origin_idx\n",
    "x_len, y_len, z_len = box_length\n",
    "x_border, y_border, z_border = border\n",
    "\n",
    "crop_img = image[x_orgidx: x_orgidx+x_len, y_orgidx: y_orgidx+y_len, z_orgidx: z_orgidx+z_len]"
   ]
  },
  {
   "cell_type": "code",
   "execution_count": 138,
   "metadata": {},
   "outputs": [],
   "source": [
    "if change_spacing:\n",
    "    crop_img, _ = resample(crop_img, abs(img_spacing), new_spacing)"
   ]
  },
  {
   "cell_type": "code",
   "execution_count": 139,
   "metadata": {},
   "outputs": [],
   "source": [
    "category_cnt = tumor_label.shape[0] \\\n",
    "    if tumor_options['dimension'] == 4 else 1\n",
    "category_names = [tumor_options['Segment{}_Name'.format(c)]\n",
    "                  for c in range(category_cnt)]\n",
    "label = []\n",
    "for i, category_name in enumerate(category_names):\n",
    "    category_label = np.zeros(box_length)\n",
    "    if len(tumor_label.shape) == 4:\n",
    "        category_label[x_border: x_len-x_border,\n",
    "                       y_border: y_len-y_border,\n",
    "                       z_border: z_len-z_border] = tumor_label[i]\n",
    "    else:\n",
    "        category_label[x_border: x_len-x_border,\n",
    "                       y_border: y_len-y_border,\n",
    "                       z_border: z_len-z_border] = tumor_label\n",
    "\n",
    "    if change_spacing:\n",
    "        category_label, _ = resample(category_label,\n",
    "                                     abs(img_spacing), new_spacing)\n",
    "    elif fine_to_thick:\n",
    "        category_label = finecut_to_thickcut(\n",
    "            category_label, thickness, label_mode=True)\n",
    "    save_name = standard_filename(category_name)\n",
    "    label.append([save_name, category_label])"
   ]
  },
  {
   "cell_type": "code",
   "execution_count": 140,
   "metadata": {},
   "outputs": [],
   "source": [
    "base_tumor_path = box_save_path + tumor_id + '/'\n",
    "if not os.path.exists(base_tumor_path):\n",
    "    os.mkdir(base_tumor_path)\n",
    "np.save(base_tumor_path + 'ctscan.npy', crop_img)\n",
    "\n",
    "for item in label:\n",
    "    np.save(base_tumor_path + item[0] + '.npy', item[1])"
   ]
  },
  {
   "cell_type": "code",
   "execution_count": 141,
   "metadata": {},
   "outputs": [],
   "source": [
    "pancreas = np.load('/home/d/pancreas/test_box_data/' + tumor_id + '/pancreas.npy')\n",
    "image = np.load('/home/d/pancreas/test_box_data/' + tumor_id + '/ctscan.npy')"
   ]
  },
  {
   "cell_type": "code",
   "execution_count": 142,
   "metadata": {},
   "outputs": [
    {
     "name": "stdout",
     "output_type": "stream",
     "text": [
      "(123, 74, 10) (123, 74, 10)\n"
     ]
    }
   ],
   "source": [
    "print(pancreas.shape, image.shape)"
   ]
  },
  {
   "cell_type": "code",
   "execution_count": null,
   "metadata": {},
   "outputs": [],
   "source": [
    "glob.glob('/home/d/pancreas/')"
   ]
  },
  {
   "cell_type": "code",
   "execution_count": null,
   "metadata": {},
   "outputs": [],
   "source": []
  },
  {
   "cell_type": "code",
   "execution_count": 18,
   "metadata": {},
   "outputs": [],
   "source": [
    "import numpy as np"
   ]
  },
  {
   "cell_type": "code",
   "execution_count": 19,
   "metadata": {},
   "outputs": [],
   "source": [
    "image = np.load('/home/d/pancreas/box_data/PC67/ctscan.npy')"
   ]
  },
  {
   "cell_type": "code",
   "execution_count": 20,
   "metadata": {},
   "outputs": [
    {
     "data": {
      "text/plain": [
       "(162, 85, 14)"
      ]
     },
     "execution_count": 20,
     "metadata": {},
     "output_type": "execute_result"
    }
   ],
   "source": [
    "image.shape"
   ]
  },
  {
   "cell_type": "code",
   "execution_count": 23,
   "metadata": {},
   "outputs": [
    {
     "data": {
      "text/plain": [
       "<matplotlib.image.AxesImage at 0x7fdf6586f550>"
      ]
     },
     "execution_count": 23,
     "metadata": {},
     "output_type": "execute_result"
    },
    {
     "data": {
      "image/png": "[encoded data removed]",
      "text/plain": [
       "<matplotlib.figure.Figure at 0x7fdf6429c828>"
      ]
     },
     "metadata": {},
     "output_type": "display_data"
    }
   ],
   "source": [
    "plt.imshow(image[:,:,5].T, cmap='gray')"
   ]
  },
  {
   "cell_type": "code",
   "execution_count": 24,
   "metadata": {},
   "outputs": [],
   "source": [
    "pancreas = np.load('/home/d/pancreas/box_data/PC67/pancreas.npy')"
   ]
  },
  {
   "cell_type": "code",
   "execution_count": 26,
   "metadata": {},
   "outputs": [
    {
     "data": {
      "text/plain": [
       "<matplotlib.image.AxesImage at 0x7fdf64a86f98>"
      ]
     },
     "execution_count": 26,
     "metadata": {},
     "output_type": "execute_result"
    },
    {
     "data": {
      "image/png": "[encoded data removed]",
      "text/plain": [
       "<matplotlib.figure.Figure at 0x7fdf65164b00>"
      ]
     },
     "metadata": {},
     "output_type": "display_data"
    }
   ],
   "source": [
    "plt.imshow(pancreas[:,:,5].T)"
   ]
  },
  {
   "cell_type": "code",
   "execution_count": null,
   "metadata": {},
   "outputs": [],
   "source": []
  }
 ],
 "metadata": {
  "kernelspec": {
   "display_name": "Python 3",
   "language": "python",
   "name": "python3"
  },
  "language_info": {
   "codemirror_mode": {
    "name": "ipython",
    "version": 3
   },
   "file_extension": ".py",
   "mimetype": "text/x-python",
   "name": "python",
   "nbconvert_exporter": "python",
   "pygments_lexer": "ipython3",
   "version": "3.6.4"
  }
 },
 "nbformat": 4,
 "nbformat_minor": 2
}
