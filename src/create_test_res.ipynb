{
 "cells": [
  {
   "cell_type": "code",
   "execution_count": null,
   "metadata": {},
   "outputs": [],
   "source": [
    "import os, time\n",
    "from pprint import pprint\n",
    "import matplotlib.pyplot as plt\n",
    "import numpy as np\n",
    "from tqdm import tqdm\n",
    "import argparse\n",
    "from time import gmtime, strftime, localtime\n",
    "import pandas as pd\n",
    "from random import shuffle\n",
    "import logging\n",
    "import absl.logging as absl_log\n",
    "import json\n",
    "# from comet_ml import Experiment\n",
    "\n",
    "import tensorflow as tf\n",
    "import keras\n",
    "from keras.backend.tensorflow_backend import set_session\n",
    "from keras.preprocessing.image import ImageDataGenerator\n",
    "from sklearn.utils import class_weight\n",
    "from sklearn.metrics import confusion_matrix, roc_curve, auc\n",
    "\n",
    "from utils import load_config, flatten_config_for_logging, find_threshold, predict_binary\n",
    "from data_loader.data_loader import (DataGenerator, generate_case_partition,\n",
    "                                     get_patches, get_patches_test, load_patches, convert_csv_to_dict)\n",
    "from models.net_keras import *\n",
    "from data_description.visualization import plot_roc, show_train_history\n",
    "\n",
    "\n",
    "############# \n",
    "config = load_config('./configs/simpleCNN_box_data_mix.yml')\n",
    "config['run_name'] = 'trans_25_9'\n",
    "###############\n",
    "\n",
    "result_path = os.path.join(config['log']['result_dir'], config['run_name'])\n",
    "if not os.path.isdir(result_path):\n",
    "    os.mkdir(result_path)\n",
    "    \n"
   ]
  }
 ],
 "metadata": {
  "kernelspec": {
   "display_name": "Python 3",
   "language": "python",
   "name": "python3"
  },
  "language_info": {
   "codemirror_mode": {
    "name": "ipython",
    "version": 3
   },
   "file_extension": ".py",
   "mimetype": "text/x-python",
   "name": "python",
   "nbconvert_exporter": "python",
   "pygments_lexer": "ipython3",
   "version": "3.6.8"
  }
 },
 "nbformat": 4,
 "nbformat_minor": 2
}
