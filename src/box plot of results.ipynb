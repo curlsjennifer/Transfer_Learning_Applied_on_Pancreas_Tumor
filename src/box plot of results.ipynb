{
 "cells": [
  {
   "cell_type": "code",
   "execution_count": 16,
   "metadata": {},
   "outputs": [],
   "source": [
    "import os\n",
    "import numpy as np\n",
    "import pandas as pd\n",
    "import seaborn as sns\n",
    "import matplotlib.pyplot as plt"
   ]
  },
  {
   "cell_type": "code",
   "execution_count": 17,
   "metadata": {},
   "outputs": [],
   "source": [
    "# Experiment names and labels\n",
    "Exp_name = 'inc_test'\n",
    "res_path = '../results/' + Exp_name"
   ]
  },
  {
   "cell_type": "code",
   "execution_count": 18,
   "metadata": {},
   "outputs": [],
   "source": [
    "# Read result files and organize them\n",
    "AUC_list = []\n",
    "rate_list = []\n",
    "trans_list = []\n",
    "\n",
    "# df = pd.read_csv(res_path + \"/source.csv\")\n",
    "# AUC_list.extend(df[\"AUC\"])\n",
    "# name_list = df[\"exp_name\"]\n",
    "# index = [name.split('_')[3] for name in name_list]\n",
    "# tar = [int(name.split('_')[2]) for name in name_list]\n",
    "# rate_list.extend(tar)\n",
    "# trans_list.extend([True] * len(df[\"AUC\"]))\n",
    "\n",
    "df = pd.read_csv(res_path + \"/target.csv\")\n",
    "AUC_list.extend(df[\"AUC\"])\n",
    "name_list = df[\"exp_name\"]\n",
    "index = [name.split('_')[3] for name in name_list]\n",
    "tar = [int(name.split('_')[2]) for name in name_list]\n",
    "rate_list.extend(tar)\n",
    "trans_list.extend([False] * len(df[\"AUC\"]))\n",
    "\n",
    "dataframe = pd.DataFrame(data={'AUC': AUC_list, 'rate': rate_list, 'trans':trans_list})"
   ]
  },
  {
   "cell_type": "code",
   "execution_count": 19,
   "metadata": {},
   "outputs": [
    {
     "data": {
      "image/png": "[encoded data removed]",
      "text/plain": [
       "<Figure size 432x288 with 1 Axes>"
      ]
     },
     "metadata": {},
     "output_type": "display_data"
    }
   ],
   "source": [
    "# Plot the boxplot\n",
    "sns.set(style=\"whitegrid\")\n",
    "tips = sns.load_dataset(\"tips\")\n",
    "ax = sns.boxplot( x=\"rate\", y=\"AUC\", hue=\"trans\",\n",
    "                 data=dataframe, palette=\"Set3\")\n",
    "ax = sns.swarmplot( x=\"rate\", y=\"AUC\", hue=\"trans\",\n",
    "                 data=dataframe, dodge=True)"
   ]
  },
  {
   "cell_type": "code",
   "execution_count": 20,
   "metadata": {},
   "outputs": [
    {
     "name": "stdout",
     "output_type": "stream",
     "text": [
      "         AUC  rate  trans\n",
      "0   0.792067   250  False\n",
      "1   0.856547   200  False\n",
      "2   0.852723   150  False\n",
      "3   0.779618   150  False\n",
      "4   0.856468   150  False\n",
      "5   0.710073   250  False\n",
      "6   0.836654   200  False\n",
      "7   0.836402   270  False\n",
      "8   0.699935   200  False\n",
      "9   0.691154   150  False\n",
      "10  0.717503   270  False\n",
      "11  0.808408   250  False\n",
      "12  0.780258   100  False\n",
      "13  0.806984   250  False\n",
      "14  0.790476   150  False\n",
      "15  0.840203   250  False\n",
      "16  0.791182   150  False\n",
      "17  0.774151    50  False\n",
      "18  0.807928   270  False\n",
      "19  0.852700   100  False\n",
      "20  0.806614    50  False\n",
      "21  0.814604   250  False\n",
      "22  0.763005   100  False\n",
      "23  0.844526    50  False\n",
      "24  0.803085   150  False\n",
      "25  0.796902   100  False\n",
      "26  0.847628    50  False\n",
      "27  0.816670   270  False\n",
      "28  0.648917    50  False\n",
      "29  0.809671   100  False\n",
      "30  0.807452   200  False\n",
      "31  0.778573   100  False\n",
      "32  0.726300    50  False\n",
      "33  0.804697   200  False\n",
      "34  0.752247    50  False\n",
      "35  0.810084   150  False\n",
      "36  0.804690   250  False\n",
      "37  0.797562   250  False\n",
      "38  0.836868   250  False\n",
      "39  0.837833   270  False\n",
      "40  0.779279   100  False\n",
      "41  0.806038   270  False\n",
      "42  0.792150   270  False\n",
      "43  0.846363   200  False\n",
      "44  0.722976    50  False\n",
      "45  0.801844   150  False\n",
      "46  0.747354    50  False\n",
      "47  0.819170    50  False\n",
      "48  0.854952   270  False\n",
      "49  0.810356   270  False\n",
      "50  0.812229   200  False\n",
      "51  0.855916   250  False\n",
      "52  0.825927   150  False\n",
      "53  0.823793   100  False\n",
      "54  0.853179   100  False\n",
      "55  0.685361   100  False\n",
      "56  0.801949   200  False\n",
      "57  0.791790   200  False\n",
      "58  0.790919   200  False\n",
      "59  0.799000   270  False\n"
     ]
    }
   ],
   "source": [
    "print(dataframe)"
   ]
  },
  {
   "cell_type": "code",
   "execution_count": null,
   "metadata": {},
   "outputs": [],
   "source": []
  }
 ],
 "metadata": {
  "kernelspec": {
   "display_name": "Python 3",
   "language": "python",
   "name": "python3"
  },
  "language_info": {
   "codemirror_mode": {
    "name": "ipython",
    "version": 3
   },
   "file_extension": ".py",
   "mimetype": "text/x-python",
   "name": "python",
   "nbconvert_exporter": "python",
   "pygments_lexer": "ipython3",
   "version": "3.6.8"
  }
 },
 "nbformat": 4,
 "nbformat_minor": 2
}
