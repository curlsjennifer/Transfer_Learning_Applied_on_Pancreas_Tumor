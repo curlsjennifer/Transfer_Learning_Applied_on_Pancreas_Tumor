{
 "cells": [
  {
   "cell_type": "code",
   "execution_count": 27,
   "metadata": {},
   "outputs": [],
   "source": [
    "import os\n",
    "import numpy as np\n",
    "import pandas as pd\n",
    "import seaborn as sns\n",
    "import matplotlib.pyplot as plt"
   ]
  },
  {
   "cell_type": "code",
   "execution_count": 28,
   "metadata": {},
   "outputs": [],
   "source": [
    "# Experiment names and labels\n",
    "exp_name_list = [\"ct_3_25_10\", \"ct_3_50_10\", \"ct_3_75_10\", \"ct_3_100_10\"]\n",
    "#exp_name_list = [\"cm_100_25_10\", \"cm_100_50_10\", \"cm_100_75_10\", \"cm_100_100_10\"]\n",
    "exp_label_list = [25, 50, 75, 100]\n",
    "folders = 10"
   ]
  },
  {
   "cell_type": "code",
   "execution_count": 29,
   "metadata": {},
   "outputs": [],
   "source": [
    "# Read result files and organize them\n",
    "AUC_list = []\n",
    "rate_list = []\n",
    "trans_list = []\n",
    "\n",
    "for exp_name, label in zip(exp_name_list, exp_label_list):\n",
    "    df = pd.read_csv(os.path.join('../result', exp_name, exp_name + \"_ext_trans.csv\")) \n",
    "    AUC_list.extend(df[\"AUC\"])\n",
    "    rate_list.extend([label] * folders)\n",
    "    trans_list.extend([True] * folders)\n",
    "    \n",
    "    df = pd.read_csv(os.path.join('../result', exp_name, exp_name + \"_ext.csv\")) \n",
    "    AUC_list.extend(df[\"AUC\"])\n",
    "    rate_list.extend([label] * folders)\n",
    "    trans_list.extend([False] * folders)\n",
    "    \n",
    "dataframe = pd.DataFrame(data={'AUC': AUC_list, 'rate': rate_list, 'trans':trans_list})"
   ]
  },
  {
   "cell_type": "code",
   "execution_count": null,
   "metadata": {},
   "outputs": [],
   "source": []
  },
  {
   "cell_type": "code",
   "execution_count": 30,
   "metadata": {},
   "outputs": [
    {
     "data": {
      "image/png": "[encoded data removed]",
      "text/plain": [
       "<Figure size 432x288 with 1 Axes>"
      ]
     },
     "metadata": {},
     "output_type": "display_data"
    }
   ],
   "source": [
    "# Plot the boxplot\n",
    "sns.set(style=\"whitegrid\")\n",
    "tips = sns.load_dataset(\"tips\")\n",
    "ax = sns.boxplot( x=\"rate\", y=\"AUC\", hue=\"trans\",\n",
    "                 data=dataframe, palette=\"Set3\")\n",
    "ax = sns.swarmplot( x=\"rate\", y=\"AUC\", hue=\"trans\",\n",
    "                 data=dataframe, dodge=True)"
   ]
  },
  {
   "cell_type": "code",
   "execution_count": 31,
   "metadata": {},
   "outputs": [
    {
     "name": "stdout",
     "output_type": "stream",
     "text": [
      "         AUC  rate  trans\n",
      "0   0.812933    25   True\n",
      "1   0.750617    25   True\n",
      "2   0.767649    25   True\n",
      "3   0.784135    25   True\n",
      "4   0.752467    25   True\n",
      "5   0.773163    25   True\n",
      "6   0.813992    25   True\n",
      "7   0.849285    25   True\n",
      "8   0.791027    25   True\n",
      "9   0.767063    25   True\n",
      "10  0.788550    25  False\n",
      "11  0.752982    25  False\n",
      "12  0.787965    25  False\n",
      "13  0.787319    25  False\n",
      "14  0.714036    25  False\n",
      "15  0.755705    25  False\n",
      "16  0.786778    25  False\n",
      "17  0.767600    25  False\n",
      "18  0.784039    25  False\n",
      "19  0.721787    25  False\n",
      "20  0.818309    50   True\n",
      "21  0.787646    50   True\n",
      "22  0.805696    50   True\n",
      "23  0.840720    50   True\n",
      "24  0.779148    50   True\n",
      "25  0.802316    50   True\n",
      "26  0.782542    50   True\n",
      "27  0.854571    50   True\n",
      "28  0.825735    50   True\n",
      "29  0.785370    50   True\n",
      "..       ...   ...    ...\n",
      "50  0.786711    75  False\n",
      "51  0.797605    75  False\n",
      "52  0.742950    75  False\n",
      "53  0.785593    75  False\n",
      "54  0.799756    75  False\n",
      "55  0.733643    75  False\n",
      "56  0.783672    75  False\n",
      "57  0.723580    75  False\n",
      "58  0.767106    75  False\n",
      "59  0.802525    75  False\n",
      "60  0.856115   100   True\n",
      "61  0.754937   100   True\n",
      "62  0.819460   100   True\n",
      "63  0.800542   100   True\n",
      "64  0.819772   100   True\n",
      "65  0.819005   100   True\n",
      "66  0.825639   100   True\n",
      "67  0.815623   100   True\n",
      "68  0.819086   100   True\n",
      "69  0.808532   100   True\n",
      "70  0.780942   100  False\n",
      "71  0.724444   100  False\n",
      "72  0.792514   100  False\n",
      "73  0.751969   100  False\n",
      "74  0.791466   100  False\n",
      "75  0.783818   100  False\n",
      "76  0.803083   100  False\n",
      "77  0.724864   100  False\n",
      "78  0.776376   100  False\n",
      "79  0.746775   100  False\n",
      "\n",
      "[80 rows x 3 columns]\n"
     ]
    }
   ],
   "source": [
    "print(dataframe)"
   ]
  },
  {
   "cell_type": "code",
   "execution_count": null,
   "metadata": {},
   "outputs": [],
   "source": []
  }
 ],
 "metadata": {
  "kernelspec": {
   "display_name": "Python 3",
   "language": "python",
   "name": "python3"
  },
  "language_info": {
   "codemirror_mode": {
    "name": "ipython",
    "version": 3
   },
   "file_extension": ".py",
   "mimetype": "text/x-python",
   "name": "python",
   "nbconvert_exporter": "python",
   "pygments_lexer": "ipython3",
   "version": "3.6.8"
  }
 },
 "nbformat": 4,
 "nbformat_minor": 2
}
