{
 "cells": [
  {
   "cell_type": "code",
   "execution_count": 6,
   "metadata": {},
   "outputs": [],
   "source": [
    "import os\n",
    "import numpy as np\n",
    "import pandas as pd\n",
    "import seaborn as sns\n",
    "import matplotlib.pyplot as plt"
   ]
  },
  {
   "cell_type": "code",
   "execution_count": 7,
   "metadata": {},
   "outputs": [],
   "source": [
    "# Experiment names and labels\n",
    "#exp_name_list = [\"cm_0_25_10\", \"cm_0_50_10\", \"cm_0_75_10\", \"cm_0_100_10\"]\n",
    "exp_name_list = [\"cm_100_25_10\", \"cm_100_50_10\", \"cm_100_75_10\", \"cm_100_100_10\"]\n",
    "exp_label_list = [25, 50, 75, 100]\n",
    "folders = 10"
   ]
  },
  {
   "cell_type": "code",
   "execution_count": 8,
   "metadata": {},
   "outputs": [],
   "source": [
    "# Read result files and organize them\n",
    "AUC_list = []\n",
    "rate_list = []\n",
    "trans_list = []\n",
    "\n",
    "for exp_name, label in zip(exp_name_list, exp_label_list):\n",
    "#     df = pd.read_csv(os.path.join('../result', exp_name, exp_name + \"_ext_trans.csv\")) \n",
    "#     AUC_list.extend(df[\"AUC\"])\n",
    "#     rate_list.extend([label] * folders)\n",
    "#     trans_list.extend([True] * folders)\n",
    "    \n",
    "    df = pd.read_csv(os.path.join('../result', exp_name, exp_name + \"_ext.csv\")) \n",
    "    AUC_list.extend(df[\"AUC\"])\n",
    "    rate_list.extend([label] * folders)\n",
    "    trans_list.extend([False] * folders)\n",
    "    \n",
    "dataframe = pd.DataFrame(data={'AUC': AUC_list, 'rate': rate_list, 'trans':trans_list})"
   ]
  },
  {
   "cell_type": "code",
   "execution_count": null,
   "metadata": {},
   "outputs": [],
   "source": []
  },
  {
   "cell_type": "code",
   "execution_count": 9,
   "metadata": {},
   "outputs": [
    {
     "data": {
      "image/png": "[encoded data removed]",
      "text/plain": [
       "<Figure size 432x288 with 1 Axes>"
      ]
     },
     "metadata": {},
     "output_type": "display_data"
    }
   ],
   "source": [
    "# Plot the boxplot\n",
    "sns.set(style=\"whitegrid\")\n",
    "tips = sns.load_dataset(\"tips\")\n",
    "ax = sns.boxplot( x=\"rate\", y=\"AUC\", hue=\"trans\",\n",
    "                 data=dataframe, palette=\"Set3\")\n",
    "ax = sns.swarmplot( x=\"rate\", y=\"AUC\", hue=\"trans\",\n",
    "                 data=dataframe, dodge=True)"
   ]
  },
  {
   "cell_type": "code",
   "execution_count": 10,
   "metadata": {},
   "outputs": [
    {
     "name": "stdout",
     "output_type": "stream",
     "text": [
      "         AUC  rate  trans\n",
      "0   0.758502    25  False\n",
      "1   0.680185    25  False\n",
      "2   0.721087    25  False\n",
      "3   0.687112    25  False\n",
      "4   0.715680    25  False\n",
      "5   0.746501    25  False\n",
      "6   0.649577    25  False\n",
      "7   0.758915    25  False\n",
      "8   0.740178    25  False\n",
      "9   0.746024    25  False\n",
      "10  0.757884    50  False\n",
      "11  0.814951    50  False\n",
      "12  0.775690    50  False\n",
      "13  0.791299    50  False\n",
      "14  0.820993    50  False\n",
      "15  0.777424    50  False\n",
      "16  0.784200    50  False\n",
      "17  0.822910    50  False\n",
      "18  0.717327    50  False\n",
      "19  0.786310    50  False\n",
      "20  0.795380    75  False\n",
      "21  0.780336    75  False\n",
      "22  0.840313    75  False\n",
      "23  0.784164    75  False\n",
      "24  0.764309    75  False\n",
      "25  0.732683    75  False\n",
      "26  0.812394    75  False\n",
      "27  0.826697    75  False\n",
      "28  0.830905    75  False\n",
      "29  0.816241    75  False\n",
      "30  0.757616   100  False\n",
      "31  0.787736   100  False\n",
      "32  0.791822   100  False\n",
      "33  0.801988   100  False\n",
      "34  0.806132   100  False\n",
      "35  0.751383   100  False\n",
      "36  0.824673   100  False\n",
      "37  0.814046   100  False\n",
      "38  0.820593   100  False\n",
      "39  0.853911   100  False\n"
     ]
    }
   ],
   "source": [
    "print(dataframe)"
   ]
  },
  {
   "cell_type": "code",
   "execution_count": null,
   "metadata": {},
   "outputs": [],
   "source": []
  }
 ],
 "metadata": {
  "kernelspec": {
   "display_name": "Python 3",
   "language": "python",
   "name": "python3"
  },
  "language_info": {
   "codemirror_mode": {
    "name": "ipython",
    "version": 3
   },
   "file_extension": ".py",
   "mimetype": "text/x-python",
   "name": "python",
   "nbconvert_exporter": "python",
   "pygments_lexer": "ipython3",
   "version": "3.6.8"
  }
 },
 "nbformat": 4,
 "nbformat_minor": 2
}
