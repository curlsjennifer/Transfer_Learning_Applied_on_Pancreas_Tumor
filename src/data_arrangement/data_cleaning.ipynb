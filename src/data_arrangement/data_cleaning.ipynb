{
 "cells": [
  {
   "cell_type": "markdown",
   "metadata": {},
   "source": [
    "# Data Cleaning\n",
    "Usage: Pair the label file and corresponded dicom files from `raw_data`, then copy to `label_data`\n",
    "## 0. Prepare\n",
    "### Library and path"
   ]
  },
  {
   "cell_type": "code",
   "execution_count": 3,
   "metadata": {},
   "outputs": [],
   "source": [
    "import time\n",
    "\n",
    "import glob\n",
    "\n",
    "import logging\n",
    "from datetime import datetime as ddt\n",
    "\n",
    "import pandas as pd\n",
    "\n",
    "from tqdm import tqdm_notebook as tqdm\n",
    "\n",
    "from arrangement import move_labeldata_finecut, move_labeldata_55cut"
   ]
  },
  {
   "cell_type": "code",
   "execution_count": 4,
   "metadata": {},
   "outputs": [],
   "source": [
    "# basically you don't need to change these\n",
    "detail_descrip_path_PC = '/home/d/pancreas/raw_data/PC_info.csv'\n",
    "detail_descrip_path = '/home/d/pancreas/raw_data/PTNP_info.csv'\n",
    "\n",
    "\n",
    "brief_descrip_normal_path = '/home/d/pancreas/raw_data/brief_normal.xlsx'\n",
    "brief_descrip_tumor_path = '/home/d/pancreas/raw_data/brief_pancreas.xlsx'\n",
    "\n",
    "source_label_path = '/home/d/pancreas/raw_data/label/'\n",
    "source_scan_path = '/home/d/pancreas/raw_data/'\n",
    "\n",
    "# target path\n",
    "# target_base_path = '/home/d/pancreas/label_data/'\n",
    "target_base_path = '/home/d/pancreas/test/'"
   ]
  },
  {
   "cell_type": "markdown",
   "metadata": {},
   "source": [
    "### Black list\n",
    "add the id that need to removed"
   ]
  },
  {
   "cell_type": "code",
   "execution_count": 3,
   "metadata": {},
   "outputs": [],
   "source": [
    "black_list = ['PT3', 'PT5', 'PT43']\n",
    "# PT3: wrong disease\n",
    "# PT5: cystic\n",
    "# PT43: cystic"
   ]
  },
  {
   "cell_type": "markdown",
   "metadata": {},
   "source": [
    "## Run the specific task\n",
    "Please run the type you need. <br>\n",
    "### 1. normal pancreas: NP"
   ]
  },
  {
   "cell_type": "code",
   "execution_count": 4,
   "metadata": {},
   "outputs": [
    {
     "name": "stderr",
     "output_type": "stream",
     "text": [
      "100%|██████████| 10/10 [00:53<00:00,  5.36s/it]"
     ]
    },
    {
     "name": "stdout",
     "output_type": "stream",
     "text": [
      "Done cleaning 10 data in 53.67331838607788 seconds\n"
     ]
    },
    {
     "name": "stderr",
     "output_type": "stream",
     "text": [
      "\n"
     ]
    }
   ],
   "source": [
    "st_tol = time.time()\n",
    "\n",
    "brief_df = pd.read_excel(brief_descrip_normal_path).fillna('')\n",
    "\n",
    "# Read the description\n",
    "detail_df = pd.read_csv(detail_descrip_path, converters={'Code': str}).fillna('')\n",
    "\n",
    "source_scan_path = '/home/d/pancreas/raw_data/normal/'\n",
    "\n",
    "cnt = 0\n",
    "for label in tqdm(glob.glob(source_label_path + 'NP*.nrrd')):\n",
    "    check_copy = move_labeldata(label, brief_df, detail_df, source_scan_path, target_base_path)\n",
    "    cnt += 1 if check_copy else 0\n",
    "print('Done cleaning {} data in {} seconds'.format(cnt, time.time()-st_tol))"
   ]
  },
  {
   "cell_type": "markdown",
   "metadata": {},
   "source": [
    "### 2.  pancreas with tumor: PT"
   ]
  },
  {
   "cell_type": "code",
   "execution_count": 6,
   "metadata": {},
   "outputs": [
    {
     "name": "stderr",
     "output_type": "stream",
     "text": [
      "  9%|▊         | 4/47 [00:49<08:47, 12.27s/it]"
     ]
    },
    {
     "name": "stdout",
     "output_type": "stream",
     "text": [
      "Skip PT43 from black list!\n"
     ]
    },
    {
     "name": "stderr",
     "output_type": "stream",
     "text": [
      " 53%|█████▎    | 25/47 [04:50<04:15, 11.63s/it]"
     ]
    },
    {
     "name": "stdout",
     "output_type": "stream",
     "text": [
      "Skip PT3 from black list!\n"
     ]
    },
    {
     "name": "stderr",
     "output_type": "stream",
     "text": [
      " 79%|███████▊  | 37/47 [06:40<01:48, 10.82s/it]"
     ]
    },
    {
     "name": "stdout",
     "output_type": "stream",
     "text": [
      "Skip PT5 from black list!\n"
     ]
    },
    {
     "name": "stderr",
     "output_type": "stream",
     "text": [
      "100%|██████████| 47/47 [08:36<00:00, 10.99s/it]"
     ]
    },
    {
     "name": "stdout",
     "output_type": "stream",
     "text": [
      "Done cleaning 44 data in 516.7655823230743 seconds\n"
     ]
    },
    {
     "name": "stderr",
     "output_type": "stream",
     "text": [
      "\n"
     ]
    }
   ],
   "source": [
    "st_tol = time.time()\n",
    "\n",
    "brief_df = pd.read_excel(brief_descrip_tumor_path).fillna('')\n",
    "\n",
    "# Read the description\n",
    "detail_df = pd.read_csv(detail_descrip_path, converters={'Code': str}).fillna('')\n",
    "\n",
    "source_scan_path = '/home/d/pancreas/raw_data/tumor/'\n",
    "\n",
    "cnt = 0\n",
    "for label in tqdm(glob.glob(source_label_path + 'PT*.nrrd')):\n",
    "    check_copy = move_labeldata_finecut(label, brief_df, detail_df, source_scan_path, target_base_path, black_list)\n",
    "    cnt += 1 if check_copy else 0\n",
    "print('Done cleaning {} data in {} seconds'.format(cnt, time.time()-st_tol))"
   ]
  },
  {
   "cell_type": "markdown",
   "metadata": {},
   "source": [
    "### 3. thick cut pancreas: PC"
   ]
  },
  {
   "cell_type": "code",
   "execution_count": 7,
   "metadata": {
    "scrolled": true
   },
   "outputs": [
    {
     "data": {
      "application/vnd.jupyter.widget-view+json": {
       "model_id": "6fbe1ffc07b94c69a07d049ee086aecb",
       "version_major": 2,
       "version_minor": 0
      },
      "text/html": [
       "<p>Failed to display Jupyter Widget of type <code>HBox</code>.</p>\n",
       "<p>\n",
       "  If you're reading this message in the Jupyter Notebook or JupyterLab Notebook, it may mean\n",
       "  that the widgets JavaScript is still loading. If this message persists, it\n",
       "  likely means that the widgets JavaScript library is either not installed or\n",
       "  not enabled. See the <a href=\"https://ipywidgets.readthedocs.io/en/stable/user_install.html\">Jupyter\n",
       "  Widgets Documentation</a> for setup instructions.\n",
       "</p>\n",
       "<p>\n",
       "  If you're reading this message in another frontend (for example, a static\n",
       "  rendering on GitHub or <a href=\"https://nbviewer.jupyter.org/\">NBViewer</a>),\n",
       "  it may mean that your frontend doesn't currently support widgets.\n",
       "</p>\n"
      ],
      "text/plain": [
       "HBox(children=(IntProgress(value=0, max=53), HTML(value='')))"
      ]
     },
     "metadata": {},
     "output_type": "display_data"
    },
    {
     "name": "stdout",
     "output_type": "stream",
     "text": [
      "Different phases in /home/d/pancreas/raw_data/tumor55/000264/20160603/4\n",
      "Different phases in /home/d/pancreas/raw_data/tumor55/000263/20160411/4\n",
      "Different phases in /home/d/pancreas/raw_data/tumor55/000147/20160308/104\n",
      "Different phases in /home/d/pancreas/raw_data/tumor55/000027/20170621/4\n",
      "Different phases in /home/d/pancreas/raw_data/tumor55/000144/20170225/4\n",
      "Different phases in /home/d/pancreas/raw_data/tumor55/000146/20160316/4\n",
      "Different phases in /home/d/pancreas/raw_data/tumor55/000134/20160625/4\n",
      "Different phases in /home/d/pancreas/raw_data/tumor55/000283/20160624/4\n",
      "Different phases in /home/d/pancreas/raw_data/tumor55/000134/20160613/4\n",
      "Different phases in /home/d/pancreas/raw_data/tumor55/000148/20160213/4\n",
      "Different phases in /home/d/pancreas/raw_data/tumor55/000277/20160830/4\n",
      "Different phases in /home/d/pancreas/raw_data/tumor55/000273/20160429/4\n",
      "Different phases in /home/d/pancreas/raw_data/tumor55/000140/20160112/4\n",
      "Different phases in /home/d/pancreas/raw_data/tumor55/000281/20170130/4\n",
      "Different phases in /home/d/pancreas/raw_data/tumor55/000027/20171225/4\n",
      "Different phases in /home/d/pancreas/raw_data/tumor55/000284/20160503/3\n",
      "Different phases in /home/d/pancreas/raw_data/tumor55/000281/20170203/4\n",
      "Different phases in /home/d/pancreas/raw_data/tumor55/000027/20171026/4\n",
      "Different phases in /home/d/pancreas/raw_data/tumor55/000143/20160613/4\n",
      "Different phases in /home/d/pancreas/raw_data/tumor55/000149/20160108/4\n",
      "Different phases in /home/d/pancreas/raw_data/tumor55/000134/20160727/4\n",
      "\n",
      "Done cleaning 53 data in 62.005691051483154 seconds\n"
     ]
    }
   ],
   "source": [
    "st_tol = time.time()\n",
    "cnt = 0\n",
    "\n",
    "# Read the description\n",
    "detail_df = pd.read_csv(detail_descrip_path_PC, converters={'Code': str}).fillna('')\n",
    "\n",
    "source_scan_path = '/home/d/pancreas/raw_data/tumor55/'\n",
    "\n",
    "\n",
    "for label in tqdm(glob.glob(source_label_path + 'PC*.nrrd')):\n",
    "    check_copy = move_labeldata_55cut(label, detail_df, source_scan_path, target_base_path)\n",
    "    cnt += 1 if check_copy else 0\n",
    "print('Done cleaning {} data in {} seconds'.format(cnt, time.time()-st_tol))"
   ]
  },
  {
   "cell_type": "code",
   "execution_count": null,
   "metadata": {},
   "outputs": [],
   "source": []
  },
  {
   "cell_type": "code",
   "execution_count": null,
   "metadata": {},
   "outputs": [],
   "source": []
  },
  {
   "cell_type": "code",
   "execution_count": null,
   "metadata": {},
   "outputs": [],
   "source": []
  }
 ],
 "metadata": {
  "kernelspec": {
   "display_name": "Python 3",
   "language": "python",
   "name": "python3"
  },
  "language_info": {
   "codemirror_mode": {
    "name": "ipython",
    "version": 3
   },
   "file_extension": ".py",
   "mimetype": "text/x-python",
   "name": "python",
   "nbconvert_exporter": "python",
   "pygments_lexer": "ipython3",
   "version": "3.6.4"
  }
 },
 "nbformat": 4,
 "nbformat_minor": 2
}
