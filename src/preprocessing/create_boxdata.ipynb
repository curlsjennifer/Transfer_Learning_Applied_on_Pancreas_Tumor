{
 "cells": [
  {
   "cell_type": "markdown",
   "metadata": {},
   "source": [
    "# Create boxdata\n",
    "* Input: label data\n",
    "* Output: 3D npy file with CT iamge and label (pancreas, lesion)"
   ]
  },
  {
   "cell_type": "code",
   "execution_count": 1,
   "metadata": {},
   "outputs": [],
   "source": [
    "import time\n",
    "import os, glob, ntpath\n",
    "import logging\n",
    "from tqdm import tqdm\n",
    "import numpy as np\n",
    "import pandas as pd\n",
    "import pydicom as dicom\n",
    "import nrrd\n",
    "import matplotlib.pyplot as plt\n",
    "from datetime import datetime as ddt"
   ]
  },
  {
   "cell_type": "code",
   "execution_count": 2,
   "metadata": {},
   "outputs": [],
   "source": [
    "border = np.array([0, 0, 0])\n",
    "# box_save_path = '/home/d/pancreas/new_box_data/'\n",
    "box_save_path = '/home/d/pancreas/box_data_test/'\n",
    "# log_path = '/home/g/pancreas/proj/Alpha/log/'\n",
    "log_path = '/home/u/sonic81518/project/pancreas/log/'"
   ]
  },
  {
   "cell_type": "code",
   "execution_count": 3,
   "metadata": {},
   "outputs": [],
   "source": [
    "# Helpful functions\n",
    "sortkey = lambda k: ntpath.basename(k).replace('.dcm', '').split('-')[-1]\n",
    "sortkey_PC = lambda k: int(ntpath.basename(k).replace('.dcm', '').split('I')[-1])\n",
    "get_slicelocation = lambda k: dicom.read_file(k, force=True)[0x0020, 0x1041].value\n",
    "get_imageposition = lambda k: np.array(list(map(float, list(dicom.read_file(k, force=True)[0x0020, 0x0032].value))))\n",
    "get_pixelspacing = lambda k: list(map(float, list(dicom.read_file(k, force=True)[0x0028, 0x0030].value)))"
   ]
  },
  {
   "cell_type": "code",
   "execution_count": null,
   "metadata": {},
   "outputs": [],
   "source": []
  },
  {
   "cell_type": "markdown",
   "metadata": {},
   "source": [
    "<h1> Logging System </h1>"
   ]
  },
  {
   "cell_type": "code",
   "execution_count": 4,
   "metadata": {},
   "outputs": [],
   "source": [
    "log_name = ['boxdata', '%Y%m%d%H%M%S.log']\n",
    "log_filename = ddt.now().strftime(log_path + '_'.join(log_name))\n",
    "\n",
    "logging.basicConfig(\n",
    "    filename=log_filename,\n",
    "    level=logging.INFO,\n",
    "    datefmt=\"%Y-%m-%d %H:%M:%S\",\n",
    "    format='%(levelname)-8s: %(asctime)-12s: %(message)s'\n",
    ")"
   ]
  },
  {
   "cell_type": "code",
   "execution_count": 5,
   "metadata": {},
   "outputs": [],
   "source": [
    "logging.info(\"Create box data.\")"
   ]
  },
  {
   "cell_type": "code",
   "execution_count": null,
   "metadata": {},
   "outputs": [],
   "source": []
  },
  {
   "cell_type": "markdown",
   "metadata": {},
   "source": [
    "<h1> Box Data </h1>"
   ]
  },
  {
   "cell_type": "code",
   "execution_count": 6,
   "metadata": {},
   "outputs": [],
   "source": [
    "# Usage: Transfer dicom image's data to Hounsfield units (HU)\n",
    "def get_pixels_hu(scans):\n",
    "    # Convert to int16, should be possible as values should always be low enough (<32k)\n",
    "    image = np.stack([s.pixel_array for s in scans]).astype(np.int16)\n",
    "    \n",
    "    # Set outside-of-scan pixels to 0\n",
    "    # The intercept is usually -1024, so air is approximately 0\n",
    "    image[image == -2000] = 0\n",
    "    \n",
    "    # Convert to Hounsfield units (HU)\n",
    "    for slice_number in range(len(scans)):\n",
    "        intercept = scans[slice_number].RescaleIntercept\n",
    "        slope = scans[slice_number].RescaleSlope\n",
    "        if slope != 1:\n",
    "            image[slice_number] = (slope * image[slice_number].astype(np.float64)).astype(np.int16)\n",
    "        image[slice_number] += np.int16(intercept)\n",
    "    return np.array(image, dtype=np.int16)"
   ]
  },
  {
   "cell_type": "code",
   "execution_count": 7,
   "metadata": {
    "scrolled": true
   },
   "outputs": [],
   "source": [
    "def create_box_data(tumorpath, border, sortkey = sortkey):\n",
    "    '''\n",
    "    Usage: Create box data from tumorpath and add border\n",
    "    '''\n",
    "    \n",
    "    logging.info(\"Start operating \" + tumorpath)\n",
    "    \n",
    "    tumor_id = ntpath.basename(os.path.normpath(tumorpath))\n",
    "    \n",
    "    # Read label nrrd\n",
    "    tumor_label, tumor_options = nrrd.read(tumorpath+'label.nrrd')\n",
    "    label_shape = np.array(tumor_label.shape[1:]) if len(tumor_label.shape) == 4 else np.array(tumor_label.shape)\n",
    "    \n",
    "    # Get ordered path and find path order\n",
    "    dcmpathes = sorted(glob.glob(tumorpath+'scans/*.dcm'), key=sortkey)\n",
    "#     order = 'downup' if get_slicelocation(dcmpathes[0]) < get_slicelocation(dcmpathes[1]) else 'updown'\n",
    "    order = 'downup' if get_imageposition(dcmpathes[0])[2] < get_imageposition(dcmpathes[1])[2] else 'updown'\n",
    "    logging.info(\"{:<21}: {}\".format(\"DICOM save order\", order))\n",
    "    \n",
    "    if order == 'updown': dcmpathes = dcmpathes[::-1]\n",
    "    assert get_imageposition(dcmpathes[0])[2] < get_imageposition(dcmpathes[1])[2], \"Wrong order!\"\n",
    "    \n",
    "    # Find each space relative origin and spacing\n",
    "    img_origin = get_imageposition(dcmpathes[0])\n",
    "    thickness = abs(get_imageposition(dcmpathes[1])[2] - get_imageposition(dcmpathes[0]))[2]\n",
    "    img_spacing = np.array(get_pixelspacing(dcmpathes[0]) + [float(thickness)])\n",
    "    \n",
    "    seg_origin = np.array(tumor_options['space origin'], dtype=float)\n",
    "    if tumor_options['space directions'][0] == 'none':\n",
    "        seg_spacing = np.diag(np.array(tumor_options['space directions'][1:]).astype(float))\n",
    "    else:\n",
    "        seg_spacing = np.diag(np.array(tumor_options['space directions']).astype(float))\n",
    "    \n",
    "    # Calculate segmetation origin index in image voxel coordinate\n",
    "    seg_origin_idx = np.round((seg_origin / seg_spacing - img_origin / img_spacing)).astype(int)\n",
    "    \n",
    "    logging.info(\"{:<21}: [{t[0]:<4.3f}, {t[1]:<4.3f}, {t[2]:<4.3f}]\".format(\"Image origin\", t=img_origin))\n",
    "    logging.info(\"{:<21}: [{t[0]:<3d}, {t[1]:<3d}, {t[2]:<3d}]\".format(\"Label shape\", t=label_shape))\n",
    "    logging.info(\"{:<21}: [{t[0]:<4.3f}, {t[1]:<4.3f}, {t[2]:<4.3f}]\".format(\"Image spacing\", t=img_spacing))\n",
    "    logging.info(\"{:<21}: [{t[0]:<4.3f}, {t[1]:<4.3f}, {t[2]:<4.3f}]\".format(\"Segment origin\", t=seg_origin))\n",
    "    logging.info(\"{:<21}: [{t[0]:<4.3f}, {t[1]:<4.3f}, {t[2]:<4.3f}]\".format(\"Segment spacing\", t=seg_spacing))\n",
    "    logging.info(\"{:<21}: [{t[0]:<3d}, {t[1]:<3d}, {t[2]:<3d}]\".format(\"Segment origin idx\", t=seg_origin_idx))\n",
    "\n",
    "    \n",
    "    # Get box origin and length\n",
    "    box_origin_idx = seg_origin_idx - border\n",
    "    box_length = label_shape + 2 * border\n",
    "    \n",
    "    x_orgidx, y_orgidx, z_orgidx = box_origin_idx\n",
    "    x_len, y_len, z_len = box_length\n",
    "    x_border, y_border, z_border = border\n",
    "    \n",
    "    logging.info(\"{:<21}: [{t[0]:<3d}, {t[1]:<3d}, {t[2]:<3d}]\".format(\"Box origin idx\", t=box_origin_idx))\n",
    "    logging.info(\"{:<21}: [{t[0]:<3d}, {t[1]:<3d}, {t[2]:<3d}]\".format(\"Box length\", t=box_length))\n",
    "\n",
    "    \n",
    "    base_tumor_path = box_save_path + tumor_id + '/'\n",
    "    if not os.path.exists(base_tumor_path):\n",
    "        os.mkdir(base_tumor_path)\n",
    "        \n",
    "    # Get DICOM scans and transfer to HU\n",
    "    patient_scan = [dicom.read_file(dcmpath, force = True) for dcmpath in dcmpathes[z_orgidx: z_orgidx+z_len]]\n",
    "    for scan in patient_scan:\n",
    "        scan.file_meta.TransferSyntaxUID = dicom.uid.ImplicitVRLittleEndian\n",
    "    patient_hu = get_pixels_hu(patient_scan)[:, y_orgidx: y_orgidx+y_len, x_orgidx: x_orgidx+x_len]\n",
    "    patient_hu = patient_hu.transpose(2, 1, 0)\n",
    "    np.save(base_tumor_path+'ctscan.npy', patient_hu)\n",
    "    logging.info(\"Save CT scan numpy array.\")\n",
    "    \n",
    "    category_cnt = tumor_label.shape[0] if tumor_options['dimension'] == 4 else 1\n",
    "    category_names = [tumor_options['keyvaluepairs']['Segment{}_Name'.format(c)] for c in range(category_cnt)]\n",
    "    \n",
    "    logging.info(\"Segment category amount: {}\".format(category_cnt))\n",
    "    logging.info(\"Segment category names: {}\".format(', '.join(category_names)))\n",
    "    \n",
    "    # Get pancreas label \n",
    "    for i, category_name in enumerate(category_names):\n",
    "        category_label = np.zeros(box_length)\n",
    "#         CHANGE HERE!!\n",
    "        category_label[x_border: x_len-x_border, y_border: y_len-y_border, z_border: z_len-z_border] = tumor_label[i] if len(tumor_label.shape) == 4 else tumor_label\n",
    "        np.save(base_tumor_path+'{}.npy'.format(category_name.replace('-', '').replace('_','').replace(' ','').replace('1','').lower()), category_label)\n",
    "        logging.info(\"Save category {} numpy array.\".format(category_name))"
   ]
  },
  {
   "cell_type": "code",
   "execution_count": 10,
   "metadata": {
    "scrolled": true
   },
   "outputs": [
    {
     "name": "stderr",
     "output_type": "stream",
     "text": [
      "100%|██████████| 44/44 [00:53<00:00,  1.22s/it]"
     ]
    },
    {
     "name": "stdout",
     "output_type": "stream",
     "text": [
      "Done create 44 box data in 53.498143434524536 seconds\n"
     ]
    },
    {
     "name": "stderr",
     "output_type": "stream",
     "text": [
      "\n"
     ]
    }
   ],
   "source": [
    "st_tol = time.time()\n",
    "cnt = 0\n",
    "for tumorpath in tqdm(glob.glob('/home/d/pancreas/new_label_data/*/PT*/*nrrd')):\n",
    "    create_box_data(tumorpath.replace('/label.nrrd','/'), border)\n",
    "    cnt += 1\n",
    "print('Done create {} box data in {} seconds'.format(cnt, time.time()-st_tol))"
   ]
  },
  {
   "cell_type": "code",
   "execution_count": 11,
   "metadata": {},
   "outputs": [
    {
     "name": "stderr",
     "output_type": "stream",
     "text": [
      "100%|██████████| 10/10 [00:09<00:00,  1.07it/s]"
     ]
    },
    {
     "name": "stdout",
     "output_type": "stream",
     "text": [
      "Done create 10 box data in 9.39674711227417 seconds\n"
     ]
    },
    {
     "name": "stderr",
     "output_type": "stream",
     "text": [
      "\n"
     ]
    }
   ],
   "source": [
    "st_tol = time.time()\n",
    "cnt = 0\n",
    "for tumorpath in tqdm(glob.glob('/home/d/pancreas/new_label_data/*/NP*/*nrrd')):\n",
    "    create_box_data(tumorpath.replace('/label.nrrd','/'), border)\n",
    "    cnt += 1\n",
    "print('Done create {} box data in {} seconds'.format(cnt, time.time()-st_tol))"
   ]
  },
  {
   "cell_type": "code",
   "execution_count": 9,
   "metadata": {},
   "outputs": [
    {
     "name": "stderr",
     "output_type": "stream",
     "text": [
      "100%|██████████| 22/22 [00:06<00:00,  3.51it/s]"
     ]
    },
    {
     "name": "stdout",
     "output_type": "stream",
     "text": [
      "Done create 22 box data in 6.299109935760498 seconds\n"
     ]
    },
    {
     "name": "stderr",
     "output_type": "stream",
     "text": [
      "\n"
     ]
    }
   ],
   "source": [
    "st_tol = time.time()\n",
    "cnt = 0\n",
    "for tumorpath in tqdm(glob.glob('/home/d/pancreas/new_label_data/*/PC*/*nrrd')):\n",
    "    create_box_data(tumorpath.replace('/label.nrrd','/'), border, sortkey = sortkey_PC)\n",
    "    cnt += 1\n",
    "print('Done create {} box data in {} seconds'.format(cnt, time.time()-st_tol))"
   ]
  },
  {
   "cell_type": "code",
   "execution_count": 8,
   "metadata": {},
   "outputs": [
    {
     "name": "stderr",
     "output_type": "stream",
     "text": [
      "100%|██████████| 6/6 [00:02<00:00,  2.41it/s]"
     ]
    },
    {
     "name": "stdout",
     "output_type": "stream",
     "text": [
      "Done create 6 box data in 2.549407958984375 seconds\n"
     ]
    },
    {
     "name": "stderr",
     "output_type": "stream",
     "text": [
      "\n"
     ]
    }
   ],
   "source": [
    "st_tol = time.time()\n",
    "cnt = 0\n",
    "for tumorpath in tqdm(glob.glob('/home/d/pancreas/new_label_data/*/BT*/*nrrd')):\n",
    "    create_box_data(tumorpath.replace('/label.nrrd','/'), border, sortkey = sortkey_PC)\n",
    "    cnt += 1\n",
    "print('Done create {} box data in {} seconds'.format(cnt, time.time()-st_tol))"
   ]
  },
  {
   "cell_type": "code",
   "execution_count": null,
   "metadata": {},
   "outputs": [],
   "source": []
  }
 ],
 "metadata": {
  "kernelspec": {
   "display_name": "Python 3",
   "language": "python",
   "name": "python3"
  },
  "language_info": {
   "codemirror_mode": {
    "name": "ipython",
    "version": 3
   },
   "file_extension": ".py",
   "mimetype": "text/x-python",
   "name": "python",
   "nbconvert_exporter": "python",
   "pygments_lexer": "ipython3",
   "version": "3.6.4"
  }
 },
 "nbformat": 4,
 "nbformat_minor": 2
}
