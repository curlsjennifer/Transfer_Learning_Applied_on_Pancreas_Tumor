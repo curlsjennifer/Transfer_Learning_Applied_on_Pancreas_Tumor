{
 "cells": [
  {
   "cell_type": "markdown",
   "metadata": {},
   "source": [
    "# Move label\n",
    "Data cleaning from `raw_data` to `label_data`\n",
    "## 0. Prepare\n",
    "### Library and path"
   ]
  },
  {
   "cell_type": "code",
   "execution_count": 1,
   "metadata": {},
   "outputs": [],
   "source": [
    "import time, random\n",
    "import os, glob, ntpath\n",
    "import re\n",
    "import logging\n",
    "from shutil import copyfile, copytree, copy\n",
    "from datetime import datetime as ddt\n",
    "\n",
    "import numpy as np\n",
    "import pandas as pd\n",
    "import pydicom as dicom\n",
    "\n",
    "from lxml import etree\n",
    "from tqdm import tqdm"
   ]
  },
  {
   "cell_type": "code",
   "execution_count": 2,
   "metadata": {},
   "outputs": [],
   "source": [
    "# basically you don't need to change these\n",
    "detail_descrip_path = '/home/d/pancreas/raw_data/detail_pancreas.csv'\n",
    "brief_descrip_normal_path = '/home/d/pancreas/raw_data/brief_normal.xlsx'\n",
    "brief_descrip_tumor_path = '/home/d/pancreas/raw_data/brief_pancreas.xlsx'\n",
    "source_label_path = '/home/d/pancreas/raw_data/label/'\n",
    "source_scan_path = '/home/d/pancreas/raw_data/'\n",
    "\n",
    "# target path\n",
    "target_base_path = '/home/d/pancreas/new_label_data/'"
   ]
  },
  {
   "cell_type": "markdown",
   "metadata": {},
   "source": [
    "### Black list\n",
    "add the id that need to removed"
   ]
  },
  {
   "cell_type": "code",
   "execution_count": 26,
   "metadata": {},
   "outputs": [],
   "source": [
    "black_list = ['PT3', 'PT5', 'PT43']\n",
    "# PT3: wrong disease\n",
    "# PT5: cystic\n",
    "# PT43: cystic"
   ]
  },
  {
   "cell_type": "markdown",
   "metadata": {},
   "source": [
    "### Read Description "
   ]
  },
  {
   "cell_type": "code",
   "execution_count": 15,
   "metadata": {},
   "outputs": [],
   "source": [
    "detail_df = pd.read_csv(detail_descrip_path, converters={'Code': str}).fillna('')"
   ]
  },
  {
   "cell_type": "markdown",
   "metadata": {},
   "source": [
    "### Move Labeled Data function"
   ]
  },
  {
   "cell_type": "code",
   "execution_count": 127,
   "metadata": {},
   "outputs": [],
   "source": [
    "def move_labeldata(label, brief_descrip_path, data_type):\n",
    "    brief_df = pd.read_excel(brief_descrip_path).fillna('')\n",
    "    '''\n",
    "    Usage: Move DICOM and label (nrrd) to specific location.\n",
    "    '''\n",
    "    # st = time.time()\n",
    "    tumor_id = ntpath.basename(label).split('_')[0]\n",
    "    dtumor_df = detail_df[detail_df['Number'] == tumor_id].reset_index()\n",
    "    assert dtumor_df.shape[0] == 1, \"Tumor id duplicated!\"\n",
    "    \n",
    "    if tumor_id in black_list:\n",
    "        print('Skip {} from black list!'.format(tumor_id))\n",
    "        return False\n",
    "    \n",
    "    # Basic Info\n",
    "    patient_id = dtumor_df['Code'][0]\n",
    "    btumor_df = brief_df[brief_df['No.'] == tumor_id].reset_index()\n",
    "    \n",
    "    # TODO: Check exam date from brief and detail are same or not\n",
    "    exam_date = ddt.strftime(ddt.strptime(btumor_df['Date'][0], '%Y.%m.%d'), '%Y%m%d')\n",
    "    series_no = str(int(btumor_df['Series Number'][0]))\n",
    "    \n",
    "    # Find\n",
    "    tumor_parent_path = source_scan_path + '{}/{}/{}/'.format(data_type, patient_id, exam_date)\n",
    "    target_tumor_parent_path = target_base_path + '{}/{}/'.format(patient_id, tumor_id)\n",
    "    \n",
    "    if not os.path.exists(target_tumor_parent_path):\n",
    "        os.makedirs(target_tumor_parent_path)\n",
    "    \n",
    "    check_copy = False\n",
    "    for dcmpath in glob.glob(tumor_parent_path+'*/*0001.dcm'):\n",
    "        # Get DICOM series number and avoid dose description\n",
    "        try:\n",
    "            dcm_series_no = str(dicom.read_file(dcmpath)[0x0020, 0x0011].value)\n",
    "        except:\n",
    "            continue\n",
    "        if dcm_series_no == series_no:\n",
    "            # Check if A phase and V phase mix up\n",
    "            time_list = []\n",
    "            dcmfiles = glob.glob(os.path.dirname(dcmpath)+'/*.dcm')\n",
    "            for dcmfile in dcmfiles:\n",
    "                time_list.append(str(dicom.read_file(dcmfile)[0x0008, 0x0032].value))\n",
    "\n",
    "            if len(set(time_list)) == 2:\n",
    "                os.makedirs(target_tumor_parent_path + 'scans')\n",
    "                for (file, time) in zip(dcmfiles, time_list):\n",
    "                    if time == max(time_list):\n",
    "                        copy(file, target_tumor_parent_path + 'scans/')\n",
    "                copyfile(label, target_base_path + '{}/{}/label.nrrd'.format(patient_id, tumor_id))\n",
    "                check_copy = True\n",
    "                continue\n",
    "            else:\n",
    "                copytree(os.path.dirname(dcmpath), target_tumor_parent_path + 'scans/')\n",
    "                copyfile(label, target_base_path + '{}/{}/label.nrrd'.format(patient_id, tumor_id))\n",
    "                check_copy = True\n",
    "                continue\n",
    "    # print('Done {} in {:<5.3f} seconds'.format(tumor_id, time.time()-st))\n",
    "    if check_copy == False:\n",
    "        print(tumor_id)\n",
    "    return check_copy"
   ]
  },
  {
   "cell_type": "code",
   "execution_count": 28,
   "metadata": {},
   "outputs": [],
   "source": [
    "def move_labeldata_PC(label, data_type):\n",
    "    '''\n",
    "    Usage: Move DICOM and label (nrrd) to specific location.\n",
    "    '''\n",
    "    # st = time.time()\n",
    "    tumor_id = ntpath.basename(label).split('_')[0]\n",
    "    dtumor_df = detail_df[detail_df['Number'] == tumor_id].reset_index()\n",
    "    assert dtumor_df.shape[0] == 1, \"Tumor id duplicated!\"\n",
    "    \n",
    "    if tumor_id in black_list:\n",
    "        print('Skip {} from black list!'.format(tumor_id))\n",
    "        return False\n",
    "    \n",
    "    # Basic Info\n",
    "    patient_id = dtumor_df['Code'][0]\n",
    "    \n",
    "    # TODO: Check exam date from brief and detail are same or not\n",
    "    exam_date = dtumor_df['Exam Date'][0]\n",
    "    series_no = ntpath.basename(label).split('_')[-1].split('.')[0]\n",
    "    \n",
    "    # Find\n",
    "    tumor_parent_path = source_scan_path + '{}/{}/{}/'.format(data_type, patient_id, exam_date)\n",
    "    target_tumor_parent_path = target_base_path + '{}/{}/'.format(patient_id, tumor_id)\n",
    "    \n",
    "    if not os.path.exists(target_tumor_parent_path):\n",
    "        os.makedirs(target_tumor_parent_path)\n",
    "    \n",
    "    check_copy = False\n",
    "#     print(len())\n",
    "    for dcmpath in glob.glob(tumor_parent_path+'*/*I1.dcm'):\n",
    "        # Get DICOM series number and avoid dose description\n",
    "        try:\n",
    "            dcm_series_no = str(dicom.read_file(dcmpath, force = True)[0x0020, 0x0011].value)\n",
    "        except:\n",
    "            continue\n",
    "        if dcm_series_no == series_no:\n",
    "            # Check if A phase and V phase mix up\n",
    "            time_list = []\n",
    "            dcmfiles = glob.glob(os.path.dirname(dcmpath)+'/*.dcm')\n",
    "            for dcmfile in dcmfiles:\n",
    "                time_list.append(str(dicom.read_file(dcmfile, force = True)[0x0008, 0x0032].value))\n",
    "            if len(set(time_list)) == 2:\n",
    "                print(\"Find different phase in \", tumor_id)\n",
    "                os.makedirs(target_tumor_parent_path + 'scans')\n",
    "                for (file, time) in zip(dcmfiles, time_list):\n",
    "                    if time == max(time_list):\n",
    "                        copy(file, target_tumor_parent_path + 'scans/')\n",
    "                copyfile(label, target_base_path + '{}/{}/label.nrrd'.format(patient_id, tumor_id))\n",
    "                check_copy = True\n",
    "                continue\n",
    "            else:\n",
    "                copytree(os.path.dirname(dcmpath), target_tumor_parent_path + 'scans/')\n",
    "                copyfile(label, target_base_path + '{}/{}/label.nrrd'.format(patient_id, tumor_id))\n",
    "                check_copy = True\n",
    "                continue\n",
    "    # print('Done {} in {:<5.3f} seconds'.format(tumor_id, time.time()-st))\n",
    "    if check_copy == False:\n",
    "        print(tumor_id)\n",
    "    return check_copy"
   ]
  },
  {
   "cell_type": "markdown",
   "metadata": {},
   "source": [
    "## Run the specific task\n",
    "Please run the type you need. <br>\n",
    "### 1. normal pancreas: NP"
   ]
  },
  {
   "cell_type": "code",
   "execution_count": 6,
   "metadata": {},
   "outputs": [
    {
     "name": "stderr",
     "output_type": "stream",
     "text": [
      "100%|██████████| 10/10 [01:00<00:00,  6.07s/it]"
     ]
    },
    {
     "name": "stdout",
     "output_type": "stream",
     "text": [
      "Done cleaning 10 data in 60.748693227767944 seconds\n"
     ]
    },
    {
     "name": "stderr",
     "output_type": "stream",
     "text": [
      "\n"
     ]
    }
   ],
   "source": [
    "st_tol = time.time()\n",
    "path = brief_descrip_normal_path\n",
    "cnt = 0\n",
    "for label in tqdm(glob.glob(source_label_path + 'NP*.nrrd')):\n",
    "    try:\n",
    "        check_copy = move_labeldata(label, path, 'normal')\n",
    "        cnt += 1 if check_copy else 0\n",
    "    except:\n",
    "        continue\n",
    "print('Done cleaning {} data in {} seconds'.format(cnt, time.time()-st_tol))"
   ]
  },
  {
   "cell_type": "markdown",
   "metadata": {},
   "source": [
    "### 2.  pancreas with tumor: PT"
   ]
  },
  {
   "cell_type": "code",
   "execution_count": 7,
   "metadata": {},
   "outputs": [
    {
     "name": "stderr",
     "output_type": "stream",
     "text": [
      "  9%|▊         | 4/47 [00:27<04:58,  6.95s/it]"
     ]
    },
    {
     "name": "stdout",
     "output_type": "stream",
     "text": [
      "Skip PT43 from black list!\n"
     ]
    },
    {
     "name": "stderr",
     "output_type": "stream",
     "text": [
      " 53%|█████▎    | 25/47 [02:40<02:21,  6.41s/it]"
     ]
    },
    {
     "name": "stdout",
     "output_type": "stream",
     "text": [
      "Skip PT3 from black list!\n"
     ]
    },
    {
     "name": "stderr",
     "output_type": "stream",
     "text": [
      " 79%|███████▊  | 37/47 [03:41<00:59,  6.00s/it]"
     ]
    },
    {
     "name": "stdout",
     "output_type": "stream",
     "text": [
      "Skip PT5 from black list!\n"
     ]
    },
    {
     "name": "stderr",
     "output_type": "stream",
     "text": [
      "100%|██████████| 47/47 [04:46<00:00,  6.10s/it]"
     ]
    },
    {
     "name": "stdout",
     "output_type": "stream",
     "text": [
      "Done cleaning 44 data in 286.6362235546112 seconds\n"
     ]
    },
    {
     "name": "stderr",
     "output_type": "stream",
     "text": [
      "\n"
     ]
    }
   ],
   "source": [
    "st_tol = time.time()\n",
    "path = brief_descrip_tumor_path\n",
    "cnt = 0\n",
    "for label in tqdm(glob.glob(source_label_path + 'PT*.nrrd')):\n",
    "    try:\n",
    "        check_copy = move_labeldata(label, path, 'tumor')\n",
    "        cnt += 1 if check_copy else 0\n",
    "    except:\n",
    "        continue\n",
    "print('Done cleaning {} data in {} seconds'.format(cnt, time.time()-st_tol))"
   ]
  },
  {
   "cell_type": "markdown",
   "metadata": {},
   "source": [
    "### 3. thick cut pancreas: PC"
   ]
  },
  {
   "cell_type": "code",
   "execution_count": 29,
   "metadata": {},
   "outputs": [
    {
     "name": "stderr",
     "output_type": "stream",
     "text": [
      "  9%|▉         | 2/22 [00:09<01:36,  4.80s/it]"
     ]
    },
    {
     "name": "stdout",
     "output_type": "stream",
     "text": [
      "Find different phase in  PC35\n"
     ]
    },
    {
     "name": "stderr",
     "output_type": "stream",
     "text": [
      " 77%|███████▋  | 17/22 [00:42<00:12,  2.50s/it]"
     ]
    },
    {
     "name": "stdout",
     "output_type": "stream",
     "text": [
      "Find different phase in  PC41\n"
     ]
    },
    {
     "name": "stderr",
     "output_type": "stream",
     "text": [
      "100%|██████████| 22/22 [00:56<00:00,  2.55s/it]"
     ]
    },
    {
     "name": "stdout",
     "output_type": "stream",
     "text": [
      "Done cleaning 0 data in 56.164583683013916 seconds\n"
     ]
    },
    {
     "name": "stderr",
     "output_type": "stream",
     "text": [
      "\n"
     ]
    }
   ],
   "source": [
    "st_tol = time.time()\n",
    "cnt = 0\n",
    "for label in tqdm(glob.glob(source_label_path + 'PC*.nrrd')):\n",
    "    try:\n",
    "        check_copy = move_labeldata_PC(label, 'tumor55')\n",
    "        cnt += 1 if check_copy else 0\n",
    "    except:\n",
    "        continue\n",
    "print('Done cleaning {} data in {} seconds'.format(cnt, time.time()-st_tol))"
   ]
  },
  {
   "cell_type": "code",
   "execution_count": null,
   "metadata": {},
   "outputs": [],
   "source": []
  },
  {
   "cell_type": "code",
   "execution_count": 38,
   "metadata": {},
   "outputs": [],
   "source": [
    "dcmfiles_test = glob.glob('/home/d/pancreas/raw_data/tumor55/000135/20160131/3/*.dcm')"
   ]
  },
  {
   "cell_type": "code",
   "execution_count": 41,
   "metadata": {},
   "outputs": [],
   "source": [
    "time_list = []\n",
    "for dcmfile in dcmfiles_test:\n",
    "    time_list.append(str(dicom.read_file(dcmfile, force = True)[0x0008, 0x0032].value))"
   ]
  },
  {
   "cell_type": "code",
   "execution_count": 44,
   "metadata": {},
   "outputs": [
    {
     "data": {
      "text/plain": [
       "['171510.205892',\n",
       " '171427.112017',\n",
       " '171427.112017',\n",
       " '171427.112017',\n",
       " '171427.112017',\n",
       " '171510.205892',\n",
       " '171427.112017',\n",
       " '171427.112017',\n",
       " '171427.112017',\n",
       " '171427.112017',\n",
       " '171427.112017',\n",
       " '171427.112017',\n",
       " '171427.112017',\n",
       " '171427.112017',\n",
       " '171427.112017',\n",
       " '171427.112017',\n",
       " '171427.112017',\n",
       " '171427.112017',\n",
       " '171427.112017',\n",
       " '171427.112017',\n",
       " '171427.112017',\n",
       " '171427.112017',\n",
       " '171427.112017',\n",
       " '171427.112017',\n",
       " '171427.112017',\n",
       " '171427.112017',\n",
       " '171427.112017',\n",
       " '171427.112017',\n",
       " '171427.112017',\n",
       " '171427.112017',\n",
       " '171427.112017',\n",
       " '171427.112017',\n",
       " '171427.112017',\n",
       " '171427.112017',\n",
       " '171427.112017',\n",
       " '171427.112017',\n",
       " '171427.112017',\n",
       " '171427.112017',\n",
       " '171427.112017',\n",
       " '171427.112017',\n",
       " '171427.112017',\n",
       " '171427.112017',\n",
       " '171427.112017',\n",
       " '171427.112017',\n",
       " '171427.112017']"
      ]
     },
     "execution_count": 44,
     "metadata": {},
     "output_type": "execute_result"
    }
   ],
   "source": [
    "time_list"
   ]
  },
  {
   "cell_type": "code",
   "execution_count": null,
   "metadata": {},
   "outputs": [],
   "source": []
  }
 ],
 "metadata": {
  "kernelspec": {
   "display_name": "Python 3",
   "language": "python",
   "name": "python3"
  },
  "language_info": {
   "codemirror_mode": {
    "name": "ipython",
    "version": 3
   },
   "file_extension": ".py",
   "mimetype": "text/x-python",
   "name": "python",
   "nbconvert_exporter": "python",
   "pygments_lexer": "ipython3",
   "version": "3.6.4"
  }
 },
 "nbformat": 4,
 "nbformat_minor": 2
}
