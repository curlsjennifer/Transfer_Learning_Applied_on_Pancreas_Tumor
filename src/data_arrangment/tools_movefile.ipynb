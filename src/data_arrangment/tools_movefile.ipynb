{
 "cells": [
  {
   "cell_type": "markdown",
   "metadata": {},
   "source": [
    "# Pre_tools\n",
    "Here are some tools for data arrangement. <br>\n",
    "## Tool 1: Sort files\n",
    "### Libraries"
   ]
  },
  {
   "cell_type": "code",
   "execution_count": 31,
   "metadata": {},
   "outputs": [],
   "source": [
    "import time, random\n",
    "import os, glob, ntpath\n",
    "import re\n",
    "import logging\n",
    "from shutil import move\n",
    "from datetime import datetime as ddt\n",
    "\n",
    "import numpy as np\n",
    "import pandas as pd\n",
    "import pydicom as dicom\n",
    "\n",
    "from lxml import etree\n",
    "from tqdm import tqdm"
   ]
  },
  {
   "cell_type": "markdown",
   "metadata": {},
   "source": [
    "### Tool 1-1: Sort scattered file\n",
    " Sort by study date if files are scattered in patient folder. <br>\n",
    " Change `[patient number]/[xxx.dcm]` to `[patient number]/[study date]/xxx.dcm`"
   ]
  },
  {
   "cell_type": "code",
   "execution_count": 49,
   "metadata": {},
   "outputs": [],
   "source": [
    "source_path = '/home/d/pancreas/raw_data/tumor55'"
   ]
  },
  {
   "cell_type": "code",
   "execution_count": 50,
   "metadata": {},
   "outputs": [
    {
     "name": "stderr",
     "output_type": "stream",
     "text": [
      "100%|██████████| 1971/1971 [00:21<00:00, 91.46it/s]"
     ]
    },
    {
     "name": "stdout",
     "output_type": "stream",
     "text": [
      "Done moving 1971 data in 21.568865537643433 seconds\n"
     ]
    },
    {
     "name": "stderr",
     "output_type": "stream",
     "text": [
      "\n"
     ]
    }
   ],
   "source": [
    "st_tol = time.time()\n",
    "cnt = 0\n",
    "for file in tqdm(glob.glob(source_path+'/*/*.dcm')):\n",
    "    try:\n",
    "        date = str(dicom.read_file(file, force = True)[0x0008, 0x0020].value)\n",
    "        parent_path = os.path.dirname(file) + '/' + date\n",
    "        if not os.path.exists(parent_path):\n",
    "            os.makedirs(parent_path)\n",
    "        move(file, parent_path + '/')\n",
    "        cnt += 1\n",
    "    except:\n",
    "        continue\n",
    "print('Done moving {} data in {} seconds'.format(cnt, time.time()-st_tol))"
   ]
  },
  {
   "cell_type": "code",
   "execution_count": null,
   "metadata": {},
   "outputs": [],
   "source": []
  },
  {
   "cell_type": "markdown",
   "metadata": {},
   "source": [
    "### Tool 1-2: Sort series\n",
    "Change `[patient number]/[study date]/xxx.dcm` to `[patient number]/[study date]/[series number]/xxx.dcm`"
   ]
  },
  {
   "cell_type": "code",
   "execution_count": 124,
   "metadata": {},
   "outputs": [],
   "source": [
    "source_path = '/home/d/pancreas/raw_data/tumor55'"
   ]
  },
  {
   "cell_type": "code",
   "execution_count": 126,
   "metadata": {},
   "outputs": [
    {
     "name": "stderr",
     "output_type": "stream",
     "text": [
      "100%|██████████| 55/55 [05:39<00:00,  6.18s/it]"
     ]
    },
    {
     "name": "stdout",
     "output_type": "stream",
     "text": [
      "Done moving 27941 data in 340.0053536891937 seconds\n"
     ]
    },
    {
     "name": "stderr",
     "output_type": "stream",
     "text": [
      "\n"
     ]
    }
   ],
   "source": [
    "st_tol = time.time()\n",
    "cnt = 0\n",
    "error_file = []\n",
    "for case_path in tqdm(glob.glob(source_path + '/00*/*')):\n",
    "    for file in glob.glob(case_path+'/*.dcm'):\n",
    "        try:\n",
    "            series_number = str(dicom.read_file(file, force = True)[0x0020, 0x0011].value)\n",
    "            parent_path = os.path.dirname(file) + '/' + series_number\n",
    "            if not os.path.exists(parent_path):\n",
    "                os.makedirs(parent_path)\n",
    "            move(file, parent_path + '/')\n",
    "            cnt +=1 \n",
    "        except:\n",
    "            error_file.append(file)\n",
    "            continue\n",
    "print('Done moving {} data in {} seconds'.format(cnt, time.time()-st_tol))"
   ]
  },
  {
   "cell_type": "code",
   "execution_count": 127,
   "metadata": {},
   "outputs": [
    {
     "name": "stdout",
     "output_type": "stream",
     "text": [
      "[]\n"
     ]
    }
   ],
   "source": [
    "print(error_file)"
   ]
  },
  {
   "cell_type": "code",
   "execution_count": null,
   "metadata": {},
   "outputs": [],
   "source": []
  },
  {
   "cell_type": "markdown",
   "metadata": {},
   "source": [
    "### Tool: Pending\n",
    "Save as series discription <br>\n",
    "Problem: can't find \"series name\", some series discription are too long, empty, or garbled"
   ]
  },
  {
   "cell_type": "code",
   "execution_count": 116,
   "metadata": {},
   "outputs": [
    {
     "name": "stderr",
     "output_type": "stream",
     "text": [
      "100%|██████████| 55/55 [00:00<00:00, 61.95it/s]"
     ]
    },
    {
     "name": "stdout",
     "output_type": "stream",
     "text": [
      "Done moving 37 data in 0.9005215167999268 seconds\n"
     ]
    },
    {
     "name": "stderr",
     "output_type": "stream",
     "text": [
      "\n"
     ]
    }
   ],
   "source": [
    "st_tol = time.time()\n",
    "cnt = 0\n",
    "for case_path in tqdm(glob.glob(source_path + '/00*/*')):\n",
    "    for file in glob.glob(case_path+'/*.dcm'):\n",
    "        try:\n",
    "            series_name = str(dicom.read_file(file, force = True)[0x0008, 0x103e].value)\n",
    "            series_name = ' '.join(series_name.split()).strip().replace(' ', '_')\n",
    "            if len(name) < 20 and len(name) > 0:\n",
    "                parent_path = os.path.dirname(file) + '/' + series_name\n",
    "                if not os.path.exists(parent_path):\n",
    "                    os.makedirs(parent_path)\n",
    "                move(file, parent_path + '/')\n",
    "                cnt += 1\n",
    "            elif len(series_name) == 0 or len(series_name) >= 20:\n",
    "                series_number = str(dicom.read_file(file, force = True)[0x0020, 0x0011].value)\n",
    "                parent_path = os.path.dirname(file) + '/' + series_number\n",
    "                if not os.path.exists(parent_path):\n",
    "                    os.makedirs(parent_path)\n",
    "                move(file, parent_path + '/')\n",
    "                cnt += 1\n",
    "        except:\n",
    "            continue\n",
    "print('Done moving {} data in {} seconds'.format(cnt, time.time()-st_tol))"
   ]
  },
  {
   "cell_type": "code",
   "execution_count": null,
   "metadata": {},
   "outputs": [],
   "source": []
  }
 ],
 "metadata": {
  "kernelspec": {
   "display_name": "Python 3",
   "language": "python",
   "name": "python3"
  },
  "language_info": {
   "codemirror_mode": {
    "name": "ipython",
    "version": 3
   },
   "file_extension": ".py",
   "mimetype": "text/x-python",
   "name": "python",
   "nbconvert_exporter": "python",
   "pygments_lexer": "ipython3",
   "version": "3.6.4"
  }
 },
 "nbformat": 4,
 "nbformat_minor": 2
}
