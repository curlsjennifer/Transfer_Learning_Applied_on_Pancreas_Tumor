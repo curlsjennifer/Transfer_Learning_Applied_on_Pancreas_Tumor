{
 "cells": [
  {
   "cell_type": "markdown",
   "metadata": {},
   "source": [
    "# Move label\n",
    "Usage: Pair the label file and corresponded dicom files from `raw_data`, then copy to `label_data`\n",
    "## 0. Prepare\n",
    "### Library and path"
   ]
  },
  {
   "cell_type": "code",
   "execution_count": 1,
   "metadata": {},
   "outputs": [],
   "source": [
    "import time\n",
    "\n",
    "import glob\n",
    "\n",
    "import logging\n",
    "from datetime import datetime as ddt\n",
    "\n",
    "import pandas as pd\n",
    "\n",
    "from tqdm import tqdm\n",
    "\n",
    "from data_arrangement import move_labeldata, move_labeldata_PC"
   ]
  },
  {
   "cell_type": "code",
   "execution_count": 2,
   "metadata": {},
   "outputs": [],
   "source": [
    "# basically you don't need to change these\n",
    "detail_descrip_path_PC = '/home/d/pancreas/raw_data/PC_info.csv'\n",
    "detail_descrip_path = '/home/d/pancreas/raw_data/PTNP_info.csv'\n",
    "\n",
    "\n",
    "brief_descrip_normal_path = '/home/d/pancreas/raw_data/brief_normal.xlsx'\n",
    "brief_descrip_tumor_path = '/home/d/pancreas/raw_data/brief_pancreas.xlsx'\n",
    "\n",
    "source_label_path = '/home/d/pancreas/raw_data/label/'\n",
    "source_scan_path = '/home/d/pancreas/raw_data/'\n",
    "\n",
    "# target path\n",
    "target_base_path = '/home/d/pancreas/label_data/'"
   ]
  },
  {
   "cell_type": "markdown",
   "metadata": {},
   "source": [
    "### Black list\n",
    "add the id that need to removed"
   ]
  },
  {
   "cell_type": "code",
   "execution_count": 3,
   "metadata": {},
   "outputs": [],
   "source": [
    "black_list = ['PT3', 'PT5', 'PT43']\n",
    "# PT3: wrong disease\n",
    "# PT5: cystic\n",
    "# PT43: cystic"
   ]
  },
  {
   "cell_type": "markdown",
   "metadata": {},
   "source": [
    "## Run the specific task\n",
    "Please run the type you need. <br>\n",
    "### 1. normal pancreas: NP"
   ]
  },
  {
   "cell_type": "code",
   "execution_count": 7,
   "metadata": {},
   "outputs": [
    {
     "name": "stderr",
     "output_type": "stream",
     "text": [
      "100%|██████████| 10/10 [01:36<00:00,  9.65s/it]"
     ]
    },
    {
     "name": "stdout",
     "output_type": "stream",
     "text": [
      "Done cleaning 10 data in 96.5311872959137 seconds\n"
     ]
    },
    {
     "name": "stderr",
     "output_type": "stream",
     "text": [
      "\n"
     ]
    }
   ],
   "source": [
    "st_tol = time.time()\n",
    "\n",
    "brief_df = pd.read_excel(brief_descrip_normal_path).fillna('')\n",
    "\n",
    "# Read the description\n",
    "detail_df = pd.read_csv(detail_descrip_path, converters={'Code': str}).fillna('')\n",
    "\n",
    "source_scan_path = '/home/d/pancreas/raw_data/normal/'\n",
    "\n",
    "cnt = 0\n",
    "for label in tqdm(glob.glob(source_label_path + 'NP*.nrrd')):\n",
    "    try:\n",
    "        check_copy = move_labeldata(label, brief_df, detail_df, source_scan_path, target_base_path)\n",
    "        cnt += 1 if check_copy else 0\n",
    "    except:\n",
    "        continue\n",
    "print('Done cleaning {} data in {} seconds'.format(cnt, time.time()-st_tol))"
   ]
  },
  {
   "cell_type": "markdown",
   "metadata": {},
   "source": [
    "### 2.  pancreas with tumor: PT"
   ]
  },
  {
   "cell_type": "code",
   "execution_count": 8,
   "metadata": {},
   "outputs": [
    {
     "name": "stderr",
     "output_type": "stream",
     "text": [
      "  9%|▊         | 4/47 [00:49<08:51, 12.37s/it]"
     ]
    },
    {
     "name": "stdout",
     "output_type": "stream",
     "text": [
      "Skip PT43 from black list!\n"
     ]
    },
    {
     "name": "stderr",
     "output_type": "stream",
     "text": [
      " 53%|█████▎    | 25/47 [04:43<04:09, 11.33s/it]"
     ]
    },
    {
     "name": "stdout",
     "output_type": "stream",
     "text": [
      "Skip PT3 from black list!\n"
     ]
    },
    {
     "name": "stderr",
     "output_type": "stream",
     "text": [
      " 79%|███████▊  | 37/47 [06:29<01:45, 10.53s/it]"
     ]
    },
    {
     "name": "stdout",
     "output_type": "stream",
     "text": [
      "Skip PT5 from black list!\n"
     ]
    },
    {
     "name": "stderr",
     "output_type": "stream",
     "text": [
      "100%|██████████| 47/47 [08:24<00:00, 10.73s/it]"
     ]
    },
    {
     "name": "stdout",
     "output_type": "stream",
     "text": [
      "Done cleaning 44 data in 504.19338297843933 seconds\n"
     ]
    },
    {
     "name": "stderr",
     "output_type": "stream",
     "text": [
      "\n"
     ]
    }
   ],
   "source": [
    "st_tol = time.time()\n",
    "\n",
    "brief_df = pd.read_excel(brief_descrip_tumor_path).fillna('')\n",
    "\n",
    "# Read the description\n",
    "detail_df = pd.read_csv(detail_descrip_path, converters={'Code': str}).fillna('')\n",
    "\n",
    "source_scan_path = '/home/d/pancreas/raw_data/tumor/'\n",
    "\n",
    "cnt = 0\n",
    "for label in tqdm(glob.glob(source_label_path + 'PT*.nrrd')):\n",
    "    try:\n",
    "        check_copy = move_labeldata(label, breif_df, detail_df, source_scan_path, target_base_path, black_list)\n",
    "        cnt += 1 if check_copy else 0\n",
    "    except:\n",
    "        continue\n",
    "print('Done cleaning {} data in {} seconds'.format(cnt, time.time()-st_tol))"
   ]
  },
  {
   "cell_type": "markdown",
   "metadata": {},
   "source": [
    "### 3. thick cut pancreas: PC"
   ]
  },
  {
   "cell_type": "code",
   "execution_count": 30,
   "metadata": {},
   "outputs": [
    {
     "name": "stderr",
     "output_type": "stream",
     "text": [
      "  6%|▌         | 3/53 [00:01<00:17,  2.82it/s]"
     ]
    },
    {
     "name": "stdout",
     "output_type": "stream",
     "text": [
      "Find different phase in PC70\n",
      "Find different phase in PC78\n"
     ]
    },
    {
     "name": "stderr",
     "output_type": "stream",
     "text": [
      "  9%|▉         | 5/53 [00:03<00:28,  1.66it/s]"
     ]
    },
    {
     "name": "stdout",
     "output_type": "stream",
     "text": [
      "Find different phase in PC55\n"
     ]
    },
    {
     "name": "stderr",
     "output_type": "stream",
     "text": [
      "\r",
      " 11%|█▏        | 6/53 [00:03<00:26,  1.76it/s]"
     ]
    },
    {
     "name": "stdout",
     "output_type": "stream",
     "text": [
      "Find different phase in PC63\n"
     ]
    },
    {
     "name": "stderr",
     "output_type": "stream",
     "text": [
      "\r",
      " 13%|█▎        | 7/53 [00:03<00:25,  1.83it/s]"
     ]
    },
    {
     "name": "stdout",
     "output_type": "stream",
     "text": [
      "Find different phase in PC35\n"
     ]
    },
    {
     "name": "stderr",
     "output_type": "stream",
     "text": [
      " 17%|█▋        | 9/53 [00:04<00:21,  2.01it/s]"
     ]
    },
    {
     "name": "stdout",
     "output_type": "stream",
     "text": [
      "Find different phase in PC49\n"
     ]
    },
    {
     "name": "stderr",
     "output_type": "stream",
     "text": [
      " 32%|███▏      | 17/53 [00:06<00:14,  2.55it/s]"
     ]
    },
    {
     "name": "stdout",
     "output_type": "stream",
     "text": [
      "Find different phase in PC52\n"
     ]
    },
    {
     "name": "stderr",
     "output_type": "stream",
     "text": [
      " 38%|███▊      | 20/53 [00:07<00:12,  2.70it/s]"
     ]
    },
    {
     "name": "stdout",
     "output_type": "stream",
     "text": [
      "Find different phase in PC125\n"
     ]
    },
    {
     "name": "stderr",
     "output_type": "stream",
     "text": [
      " 42%|████▏     | 22/53 [00:07<00:11,  2.77it/s]"
     ]
    },
    {
     "name": "stdout",
     "output_type": "stream",
     "text": [
      "Find different phase in PC51\n"
     ]
    },
    {
     "name": "stderr",
     "output_type": "stream",
     "text": [
      " 45%|████▌     | 24/53 [00:08<00:10,  2.85it/s]"
     ]
    },
    {
     "name": "stdout",
     "output_type": "stream",
     "text": [
      "Find different phase in PC54\n"
     ]
    },
    {
     "name": "stderr",
     "output_type": "stream",
     "text": [
      "\r",
      " 47%|████▋     | 25/53 [00:08<00:09,  2.85it/s]"
     ]
    },
    {
     "name": "stdout",
     "output_type": "stream",
     "text": [
      "Find different phase in PC79\n"
     ]
    },
    {
     "name": "stderr",
     "output_type": "stream",
     "text": [
      "\r",
      " 49%|████▉     | 26/53 [00:09<00:09,  2.87it/s]"
     ]
    },
    {
     "name": "stdout",
     "output_type": "stream",
     "text": [
      "Find different phase in PC98\n"
     ]
    },
    {
     "name": "stderr",
     "output_type": "stream",
     "text": [
      " 53%|█████▎    | 28/53 [00:09<00:08,  2.85it/s]"
     ]
    },
    {
     "name": "stdout",
     "output_type": "stream",
     "text": [
      "Find different phase in PC3\n"
     ]
    },
    {
     "name": "stderr",
     "output_type": "stream",
     "text": [
      " 57%|█████▋    | 30/53 [00:10<00:08,  2.80it/s]"
     ]
    },
    {
     "name": "stdout",
     "output_type": "stream",
     "text": [
      "Find different phase in PC73\n"
     ]
    },
    {
     "name": "stderr",
     "output_type": "stream",
     "text": [
      " 68%|██████▊   | 36/53 [00:12<00:05,  2.88it/s]"
     ]
    },
    {
     "name": "stdout",
     "output_type": "stream",
     "text": [
      "Find different phase in PC67\n"
     ]
    },
    {
     "name": "stderr",
     "output_type": "stream",
     "text": [
      " 72%|███████▏  | 38/53 [00:13<00:05,  2.88it/s]"
     ]
    },
    {
     "name": "stdout",
     "output_type": "stream",
     "text": [
      "Find different phase in PC104\n"
     ]
    },
    {
     "name": "stderr",
     "output_type": "stream",
     "text": [
      "\r",
      " 74%|███████▎  | 39/53 [00:13<00:04,  2.87it/s]"
     ]
    },
    {
     "name": "stdout",
     "output_type": "stream",
     "text": [
      "Find different phase in PC72\n"
     ]
    },
    {
     "name": "stderr",
     "output_type": "stream",
     "text": [
      " 79%|███████▉  | 42/53 [00:14<00:03,  2.91it/s]"
     ]
    },
    {
     "name": "stdout",
     "output_type": "stream",
     "text": [
      "Find different phase in PC66\n",
      "Find different phase in PC41\n"
     ]
    },
    {
     "name": "stderr",
     "output_type": "stream",
     "text": [
      " 85%|████████▍ | 45/53 [00:15<00:02,  2.94it/s]"
     ]
    },
    {
     "name": "stdout",
     "output_type": "stream",
     "text": [
      "Find different phase in PC37\n"
     ]
    },
    {
     "name": "stderr",
     "output_type": "stream",
     "text": [
      "\r",
      " 87%|████████▋ | 46/53 [00:15<00:02,  2.95it/s]"
     ]
    },
    {
     "name": "stdout",
     "output_type": "stream",
     "text": [
      "Find different phase in PC2\n"
     ]
    },
    {
     "name": "stderr",
     "output_type": "stream",
     "text": [
      " 98%|█████████▊| 52/53 [00:17<00:00,  2.98it/s]"
     ]
    },
    {
     "name": "stdout",
     "output_type": "stream",
     "text": [
      "Find different phase in PC53\n"
     ]
    },
    {
     "name": "stderr",
     "output_type": "stream",
     "text": [
      "\r",
      "100%|██████████| 53/53 [00:17<00:00,  2.97it/s]"
     ]
    },
    {
     "name": "stdout",
     "output_type": "stream",
     "text": [
      "Done cleaning 1 data in 17.834814071655273 seconds\n"
     ]
    },
    {
     "name": "stderr",
     "output_type": "stream",
     "text": [
      "\n"
     ]
    }
   ],
   "source": [
    "st_tol = time.time()\n",
    "cnt = 0\n",
    "\n",
    "# Read the description\n",
    "detail_df = pd.read_csv(detail_descrip_path, converters={'Code': str}).fillna('')\n",
    "\n",
    "source_scan_path = '/home/d/pancreas/raw_data/tumor55/'\n",
    "\n",
    "\n",
    "for label in tqdm(glob.glob(source_label_path + 'PC*.nrrd')):\n",
    "    try:\n",
    "        check_copy = da.move_labeldata_PC(label, detail_df, source_scan_path, target_base_path)\n",
    "        cnt += 1 if check_copy else 0\n",
    "    except:\n",
    "        continue\n",
    "print('Done cleaning {} data in {} seconds'.format(cnt, time.time()-st_tol))"
   ]
  },
  {
   "cell_type": "code",
   "execution_count": null,
   "metadata": {},
   "outputs": [],
   "source": []
  },
  {
   "cell_type": "code",
   "execution_count": null,
   "metadata": {},
   "outputs": [],
   "source": []
  }
 ],
 "metadata": {
  "kernelspec": {
   "display_name": "Python 3",
   "language": "python",
   "name": "python3"
  },
  "language_info": {
   "codemirror_mode": {
    "name": "ipython",
    "version": 3
   },
   "file_extension": ".py",
   "mimetype": "text/x-python",
   "name": "python",
   "nbconvert_exporter": "python",
   "pygments_lexer": "ipython3",
   "version": "3.6.4"
  }
 },
 "nbformat": 4,
 "nbformat_minor": 2
}
